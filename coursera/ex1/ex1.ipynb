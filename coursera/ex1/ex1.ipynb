{
 "cells": [
  {
   "cell_type": "markdown",
   "metadata": {},
   "source": [
    "# Machine Learning Online Class - Exercise 1: Linear Regression"
   ]
  },
  {
   "cell_type": "code",
   "execution_count": null,
   "metadata": {},
   "outputs": [],
   "source": [
    "%matplotlib inline\n",
    "\n",
    "from numpy import eye, loadtxt, hstack, zeros, ones, dot, transpose, array, linspace, logspace, meshgrid\n",
    "from matplotlib import cm\n",
    "from matplotlib.pyplot import plot, ylabel, xlabel, figure, subplots, contour\n",
    "from mpl_toolkits.mplot3d import Axes3D"
   ]
  },
  {
   "cell_type": "markdown",
   "metadata": {},
   "source": [
    "## Part 1: Basic Function\n",
    "\n",
    "### Warm up exercise\n",
    "\n",
    "print 5x5 identity matrix:"
   ]
  },
  {
   "cell_type": "code",
   "execution_count": null,
   "metadata": {},
   "outputs": [],
   "source": [
    "print(eye(5))"
   ]
  },
  {
   "cell_type": "markdown",
   "metadata": {},
   "source": [
    "# Part 2: Plotting"
   ]
  },
  {
   "cell_type": "code",
   "execution_count": null,
   "metadata": {
    "collapsed": true
   },
   "outputs": [],
   "source": [
    "# load the data\n",
    "\n",
    "data = loadtxt('ex1data1.txt', delimiter=',')\n",
    "X, y = data[:, 0].reshape(-1, 1), data[:, 1].reshape(-1, 1)"
   ]
  },
  {
   "cell_type": "code",
   "execution_count": null,
   "metadata": {},
   "outputs": [],
   "source": [
    "# implement your code to plot the data\n",
    "\n",
    "fig, ax = subplots()\n",
    "\n",
    "ax.plot(X, y, 'rx', markersize=10)\n",
    "ax.set_ylabel('Profit in $10,000s')\n",
    "ax.set_xlabel('Population of City in 10,000s')"
   ]
  },
  {
   "cell_type": "markdown",
   "metadata": {},
   "source": [
    "## Part 3: Gradient descent"
   ]
  },
  {
   "cell_type": "code",
   "execution_count": null,
   "metadata": {},
   "outputs": [],
   "source": [
    "m = y.size\n",
    "X = hstack((ones((m, 1)), X)) # add a column of ones to X\n",
    "theta = zeros((2, 1))\n",
    "\n",
    "iterations = 1500\n",
    "alpha = 0.01"
   ]
  },
  {
   "cell_type": "markdown",
   "metadata": {},
   "source": [
    "### Compute Cost"
   ]
  },
  {
   "cell_type": "code",
   "execution_count": null,
   "metadata": {},
   "outputs": [],
   "source": [
    "def h(theta, X):\n",
    "    \"\"\"hypotheses of theta\"\"\"\n",
    "    return dot(X, theta)\n",
    "\n",
    "def computeCost(X, y, theta):\n",
    "    m = y.size\n",
    "    J = 0\n",
    "\n",
    "    temp = h(theta, X) - y\n",
    "    J = (dot(transpose(temp), temp) ) / (2 * m)\n",
    "\n",
    "    return J[0, 0]\n",
    "\n",
    "def gradientDescent(X, y, theta, alpha, iterations):\n",
    "    m = y.size\n",
    "    J_history = zeros((iterations, 1))\n",
    "\n",
    "    for i in range(iterations):\n",
    "        theta = theta - alpha / m * dot(transpose(X), (h(theta, X) - y))\n",
    "        J_history[i, 0] = computeCost(X, y, theta)\n",
    "\n",
    "    return theta, J_history"
   ]
  },
  {
   "cell_type": "code",
   "execution_count": null,
   "metadata": {},
   "outputs": [],
   "source": [
    "# compute and display initial cost\n",
    "J = computeCost(X, y, theta)\n",
    "\n",
    "print(f'J = {J:.2f}')"
   ]
  },
  {
   "cell_type": "code",
   "execution_count": null,
   "metadata": {},
   "outputs": [],
   "source": [
    "# run gradient descent\n",
    "theta, _ = gradientDescent(X, y, theta, alpha, iterations)\n",
    "print(f'Theta found by gradient descent: {str(theta[0, 0])} {str(theta[1, 0])}')"
   ]
  },
  {
   "cell_type": "code",
   "execution_count": null,
   "metadata": {},
   "outputs": [],
   "source": [
    "ax.plot(X[:,1], dot(X, theta), '-') # plot on the previous canvas\n",
    "ax.legend(['Training data', 'Linear regression'])\n",
    "fig # re-draw the canvas at here"
   ]
  },
  {
   "cell_type": "code",
   "execution_count": null,
   "metadata": {},
   "outputs": [],
   "source": [
    "# Predict values for population sizes of 35,000 and 70,000\n",
    "predict1 = dot(array([1, 3.5]), theta)[0]\n",
    "print(f'For population = 35,000, we predict a profit of {predict1*10000:.2f}')\n",
    "predict2 = dot(array([1, 7]), theta)[0]\n",
    "print(f'For population = 70,000, we predict a profit of {predict2*10000:.2f}')"
   ]
  },
  {
   "cell_type": "markdown",
   "metadata": {},
   "source": [
    "# Part 4: Visualizing J(theta_0, theta_1)"
   ]
  },
  {
   "cell_type": "code",
   "execution_count": null,
   "metadata": {},
   "outputs": [],
   "source": [
    "theta0_space = linspace(-10, 10, 100)\n",
    "theta1_space = linspace(-1, 4, 100)\n",
    "\n",
    "# initialize J_vals to a matrix of 0's\n",
    "J_vals = zeros((theta0_space.size, theta1_space.size))\n",
    "# Fill out J_vals\n",
    "for i in range(theta0_space.size):\n",
    "    for j in range(theta1_space.size):\n",
    "        t = array([[theta0_space[i]], [theta1_space[j]]])\n",
    "        J_vals[i, j] = computeCost(X, y, t)\n",
    "\n",
    "fig = figure()\n",
    "ax = fig.add_subplot(1, 1, 1, projection='3d')\n",
    "theta0_grid, theta1_grid = meshgrid(theta0_space, theta1_space)\n",
    "ax.plot_surface(theta0_grid, theta1_grid, J_vals, cmap=cm.coolwarm)\n",
    "xlabel('theta0')\n",
    "ylabel('theta1')"
   ]
  },
  {
   "cell_type": "code",
   "execution_count": null,
   "metadata": {},
   "outputs": [],
   "source": [
    "# Contour plot\n",
    "# Plot J_vals as 15 contours spaced logarithmically between 0.01 and 100\n",
    "contour(theta0_space, theta1_space,\n",
    "        transpose(J_vals), # perform transpose only to match with the course\n",
    "        logspace(-2, 3, 20))\n",
    "plot(theta[0], theta[1], 'rx', markersize=10, linewidth=2)\n",
    "xlabel('theta0')\n",
    "ylabel('theta1')"
   ]
  }
 ],
 "metadata": {
  "kernelspec": {
   "display_name": "Python 3",
   "language": "python",
   "name": "python3"
  },
  "language_info": {
   "codemirror_mode": {
    "name": "ipython",
    "version": 3
   },
   "file_extension": ".py",
   "mimetype": "text/x-python",
   "name": "python",
   "nbconvert_exporter": "python",
   "pygments_lexer": "ipython3",
   "version": "3.6.1"
  }
 },
 "nbformat": 4,
 "nbformat_minor": 1
}
