{
 "cells": [
  {
   "cell_type": "markdown",
   "metadata": {},
   "source": [
    "# Exercise 1: Linear regression with multiple variables"
   ]
  },
  {
   "cell_type": "code",
   "execution_count": 1,
   "metadata": {},
   "outputs": [],
   "source": [
    "%matplotlib inline\n",
    "\n",
    "import numpy as np\n",
    "from numpy import loadtxt, hstack, zeros, ones, dot, transpose, array\n",
    "from matplotlib import cm\n",
    "from matplotlib.pyplot import plot, ylabel, xlabel, subplots\n",
    "from sklearn.preprocessing import Normalizer"
   ]
  },
  {
   "cell_type": "markdown",
   "metadata": {},
   "source": [
    "## Part 1: Feature Normalization"
   ]
  },
  {
   "cell_type": "code",
   "execution_count": 2,
   "metadata": {},
   "outputs": [
    {
     "name": "stdout",
     "output_type": "stream",
     "text": [
      "First 10 examples from the dataset:\n",
      "x = [[2.104e+03 3.000e+00]\n",
      " [1.600e+03 3.000e+00]\n",
      " [2.400e+03 3.000e+00]\n",
      " [1.416e+03 2.000e+00]\n",
      " [3.000e+03 4.000e+00]\n",
      " [1.985e+03 4.000e+00]\n",
      " [1.534e+03 3.000e+00]\n",
      " [1.427e+03 3.000e+00]\n",
      " [1.380e+03 3.000e+00]\n",
      " [1.494e+03 3.000e+00]],\n",
      "y = [[399900.]\n",
      " [329900.]\n",
      " [369000.]\n",
      " [232000.]\n",
      " [539900.]\n",
      " [299900.]\n",
      " [314900.]\n",
      " [198999.]\n",
      " [212000.]\n",
      " [242500.]]\n"
     ]
    }
   ],
   "source": [
    "# load data\n",
    "\n",
    "data = loadtxt('ex1data2.txt', delimiter=',')\n",
    "X, y = data[:, 0:2].reshape(-1, 2), data[:, 2].reshape(-1, 1)\n",
    "m = len(y)\n",
    "\n",
    "print(f'''First 10 examples from the dataset:\n",
    "x = {X[0:10, :]},\n",
    "y = {y[0:10, :]}''')"
   ]
  },
  {
   "cell_type": "code",
   "execution_count": 3,
   "metadata": {},
   "outputs": [],
   "source": [
    "# normaliz features\n",
    "normalizer_x = Normalizer().fit(X)\n",
    "X = normalizer_x.transform(X)\n",
    "\n",
    "# add intercept term to X\n",
    "X = hstack((ones((m, 1)), X))"
   ]
  },
  {
   "cell_type": "markdown",
   "metadata": {},
   "source": [
    "## Part 2: Gradient Descent"
   ]
  },
  {
   "cell_type": "code",
   "execution_count": 4,
   "metadata": {},
   "outputs": [],
   "source": [
    "alpha = 0.01\n",
    "num_iters = 400\n",
    "\n",
    "theta = zeros((3, 1))\n",
    "\n",
    "def h(theta, X):\n",
    "    return dot(X, theta)\n",
    "\n",
    "def computeCostMulti(X, y, theta):\n",
    "    m = y.size\n",
    "    temp = h(theta, X) - y\n",
    "    return dot(transpose(temp), temp) / (2 * m)\n",
    "\n",
    "def gradientDescentMulti(X, y, theta, alpha, num_iters):\n",
    "    m = len(y)\n",
    "    J_history = zeros((num_iters, 1))\n",
    "    \n",
    "    for i in range(0, num_iters):\n",
    "        theta -= alpha / m * dot(transpose(X), h(theta, X) - y)\n",
    "        J_history[i, 0] = computeCostMulti(X, y, theta)\n",
    "        \n",
    "    return theta, J_history\n",
    "\n",
    "theta, J_history = gradientDescentMulti(X, y, theta, alpha, num_iters)"
   ]
  },
  {
   "cell_type": "code",
   "execution_count": 5,
   "metadata": {},
   "outputs": [
    {
     "data": {
      "text/plain": [
       "Text(0,0.5,'Cost J')"
      ]
     },
     "execution_count": 5,
     "metadata": {},
     "output_type": "execute_result"
    },
    {
     "data": {
      "image/png": "[encoded data removed]",
      "text/plain": [
       "<Figure size 432x288 with 1 Axes>"
      ]
     },
     "metadata": {},
     "output_type": "display_data"
    }
   ],
   "source": [
    "# plot the convergence graph\n",
    "\n",
    "fig, ax = subplots()\n",
    "ax.plot(range(len(J_history)), J_history, '-b', linewidth=2)\n",
    "xlabel('Number of iterations')\n",
    "ylabel('Cost J')"
   ]
  },
  {
   "cell_type": "code",
   "execution_count": 6,
   "metadata": {},
   "outputs": [
    {
     "name": "stdout",
     "output_type": "stream",
     "text": [
      "Theta computed from gradient descent:\n",
      "[[1.70153701e+05]\n",
      " [1.70153677e+05]\n",
      " [1.45682035e+02]]\n",
      "Predicted price of a 1650 sq-ft, 3 br house\n",
      "(using gradient descent): $340307.36\n"
     ]
    }
   ],
   "source": [
    "print(f'''Theta computed from gradient descent:\n",
    "{theta}''')\n",
    "\n",
    "# Estimate the price of a 1650 sq-ft, 3 br house\n",
    "price = dot(hstack([ones((1, 1)), normalizer_x.transform(array([1650.0, 3.0]).reshape(-1, 2))]),\n",
    "            theta)\n",
    "\n",
    "print(f'''Predicted price of a 1650 sq-ft, 3 br house\n",
    "(using gradient descent): ${price[0, 0]:.2f}''')"
   ]
  },
  {
   "cell_type": "markdown",
   "metadata": {},
   "source": [
    "## Part 3: Normal Equations\n",
    "\n",
    "*not implemented*"
   ]
  }
 ],
 "metadata": {
  "kernelspec": {
   "display_name": "Python 3",
   "language": "python",
   "name": "python3"
  },
  "language_info": {
   "codemirror_mode": {
    "name": "ipython",
    "version": 3
   },
   "file_extension": ".py",
   "mimetype": "text/x-python",
   "name": "python",
   "nbconvert_exporter": "python",
   "pygments_lexer": "ipython3",
   "version": "3.6.5"
  }
 },
 "nbformat": 4,
 "nbformat_minor": 2
}
