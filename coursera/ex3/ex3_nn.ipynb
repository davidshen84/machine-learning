{
 "cells": [
  {
   "cell_type": "markdown",
   "metadata": {},
   "source": [
    "# Exercise 3 | Part 2: Neural Networks"
   ]
  },
  {
   "cell_type": "code",
   "execution_count": null,
   "metadata": {},
   "outputs": [],
   "source": [
    "%matplotlib inline\n",
    "\n",
    "from scipy.io import loadmat\n",
    "from scipy.optimize import minimize\n",
    "from numpy import mean, sqrt, floor, ceil, ones, newaxis, arange, zeros, ones, c_, array, log, finfo, float64, exp, double\n",
    "from numpy.random import permutation, randint\n",
    "from matplotlib.pyplot import show, imshow, axis"
   ]
  },
  {
   "cell_type": "code",
   "execution_count": null,
   "metadata": {
    "collapsed": true
   },
   "outputs": [],
   "source": [
    "# setup the parameters you will use for this exercise\n",
    "\n",
    "input_layer_size = 400\n",
    "hidden_layer_size = 25\n",
    "num_labels = 10"
   ]
  },
  {
   "cell_type": "markdown",
   "metadata": {},
   "source": [
    "## Part 1: Loading and Visualizing Data\n",
    "\n",
    "We start the exercise by first loading and visualizing the\n",
    "dataset. You will be working with a dataset that contains handwritten\n",
    "digits."
   ]
  },
  {
   "cell_type": "code",
   "execution_count": null,
   "metadata": {
    "collapsed": true
   },
   "outputs": [],
   "source": [
    "def display_data(X, example_width=None):\n",
    "    m, n = X.shape\n",
    "    if not example_width:\n",
    "      # assume the example is a square image\n",
    "      example_width = round(sqrt(n))\n",
    "\n",
    "    # Compute rows, cols\n",
    "    example_height = int((n / example_width))\n",
    "    example_width = int(example_width)\n",
    "\n",
    "    # Compute number of items to display\n",
    "    display_rows = int(floor(sqrt(m)))\n",
    "    display_cols = int(ceil(m / display_rows))\n",
    "    \n",
    "    # Between images padding\n",
    "    pad = 1\n",
    "\n",
    "    # Setup blank display\n",
    "    display_array = - ones((pad + display_rows * (example_height + pad),\n",
    "                            pad + display_cols * (example_width + pad)))\n",
    "\n",
    "    base_rows = arange(example_height)\n",
    "    base_cols = arange(example_width)\n",
    "\n",
    "    # Copy each example into a patch on the display array\n",
    "    curr_ex = 0\n",
    "    for j in range(display_rows):\n",
    "        for i in range(display_cols):\n",
    "            if curr_ex >= m:\n",
    "                break\n",
    "\n",
    "            # Copy the patch\n",
    "            # Get the max value of the patch\n",
    "            max_val = max(abs(X[curr_ex, :]))\n",
    "\n",
    "            #print X[curr_ex, :].reshape(example_height, example_width) / max_val\n",
    "            rows = pad + base_rows[:, newaxis] + j * (pad + example_height)\n",
    "            cols = pad + base_cols + i * (pad + example_width)\n",
    "            display_array[rows, cols] = X[curr_ex, :]\\\n",
    "              .reshape(example_height, example_width) / max_val\n",
    "            curr_ex += 1\n",
    "\n",
    "    imgplot = imshow(display_array.T)\n",
    "    # Gray Image\n",
    "    imgplot.set_cmap('gray')\n",
    "    axis('off')"
   ]
  },
  {
   "cell_type": "code",
   "execution_count": null,
   "metadata": {},
   "outputs": [],
   "source": [
    "# Loading and Visualizing Data ...\n",
    "\n",
    "data1 = loadmat('ex3data1.mat')\n",
    "X = data1['X']\n",
    "y = data1['y']\n",
    "m, n = X.shape\n",
    "\n",
    "rand_indices = permutation(m)\n",
    "sel = X[rand_indices[:100], :]\n",
    "\n",
    "display_data(sel)\n",
    "show(block=False)"
   ]
  },
  {
   "cell_type": "markdown",
   "metadata": {},
   "source": [
    "## Part 2: Loading Pameters\n",
    "\n",
    "In this part of the exercise, we load some pre-initialized neural\n",
    "network parameters."
   ]
  },
  {
   "cell_type": "code",
   "execution_count": null,
   "metadata": {},
   "outputs": [],
   "source": [
    "# Loading Saved Neural Network Parameters ...\n",
    "\n",
    "# Load the weights into variables Theta1 and Theta2\n",
    "weights1 = loadmat('ex3weights.mat')\n",
    "theta1 = weights1['Theta1']\n",
    "theta2 = weights1['Theta2']"
   ]
  },
  {
   "cell_type": "markdown",
   "metadata": {},
   "source": [
    "## Part 3: Implement Predict\n",
    "\n",
    "After training the neural network, we would like to use it to predict\n",
    "the labels. You will now implement the \"predict\" function to use the\n",
    "neural network to predict the labels of the training set. This lets\n",
    "you compute the training set accuracy."
   ]
  },
  {
   "cell_type": "code",
   "execution_count": null,
   "metadata": {
    "collapsed": true
   },
   "outputs": [],
   "source": [
    "def sigmoid(z):\n",
    "  return 1. / (1. + exp(-z))\n",
    "\n",
    "def predict(theta1, theta2, X):\n",
    "    \"\"\"Predict the label of an input given a trained neural network.\"\"\"\n",
    "    m = X.shape[0]\n",
    "\n",
    "    X = c_[ones((m, 1)), X]\n",
    "\n",
    "    z2 = X.dot(theta1.T)\n",
    "    a2 = c_[ones((m, 1)), sigmoid(z2)]\n",
    "    \n",
    "    z3 = a2.dot(theta2.T)\n",
    "    a3 = sigmoid(z3)\n",
    "\n",
    "    return a3.argmax(axis=1) + 1"
   ]
  },
  {
   "cell_type": "code",
   "execution_count": null,
   "metadata": {},
   "outputs": [],
   "source": [
    "pred = predict(theta1, theta2, X)\n",
    "print(f'''Training Set Accuracy: {mean(double(pred == y.flatten())) * 100:.2f}''')"
   ]
  },
  {
   "cell_type": "markdown",
   "metadata": {},
   "source": [
    "To give you an idea of the network's output, you can also run through the examples one at the a time to see what it is predicting."
   ]
  },
  {
   "cell_type": "code",
   "execution_count": null,
   "metadata": {},
   "outputs": [],
   "source": [
    "i = randint(0, high=X.shape[0])\n",
    "sample = X[i].reshape(1, -1)\n",
    "display_data(sample)\n",
    "pred = predict(theta1, theta2, sample)[0]\n",
    "print(f'''Neural Network Prediction: {pred} (digit {pred % 10})\\n''')"
   ]
  }
 ],
 "metadata": {
  "kernelspec": {
   "display_name": "Python 3",
   "language": "python",
   "name": "python3"
  },
  "language_info": {
   "codemirror_mode": {
    "name": "ipython",
    "version": 3
   },
   "file_extension": ".py",
   "mimetype": "text/x-python",
   "name": "python",
   "nbconvert_exporter": "python",
   "pygments_lexer": "ipython3",
   "version": "3.6.1"
  }
 },
 "nbformat": 4,
 "nbformat_minor": 2
}
