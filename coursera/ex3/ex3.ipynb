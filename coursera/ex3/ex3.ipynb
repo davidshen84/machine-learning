{
 "cells": [
  {
   "cell_type": "markdown",
   "metadata": {
    "deletable": true,
    "editable": true
   },
   "source": [
    "# Ex3"
   ]
  },
  {
   "cell_type": "code",
   "execution_count": null,
   "metadata": {
    "collapsed": true,
    "deletable": true,
    "editable": true
   },
   "outputs": [],
   "source": [
    "%matplotlib inline\n",
    "\n",
    "from __future__ import print_function, division\n",
    "\n",
    "from scipy.io import loadmat\n",
    "from scipy.optimize import minimize\n",
    "from numpy import mean, sqrt, floor, ceil, ones, newaxis, arange, zeros, ones, c_, array, log, finfo, float64, exp\n",
    "from numpy.random import permutation\n",
    "from matplotlib.pyplot import show, imshow, axis"
   ]
  },
  {
   "cell_type": "code",
   "execution_count": null,
   "metadata": {
    "collapsed": true,
    "deletable": true,
    "editable": true
   },
   "outputs": [],
   "source": [
    "def sigmoid(z):\n",
    "  return 1 / (1 + exp(-z))"
   ]
  },
  {
   "cell_type": "code",
   "execution_count": null,
   "metadata": {
    "collapsed": false,
    "deletable": true,
    "editable": true
   },
   "outputs": [],
   "source": [
    "def display_data(X, example_width=None):\n",
    "    m, n = X.shape\n",
    "    if not example_width:\n",
    "      # assume the example is a square image\n",
    "      example_width = round(sqrt(n))\n",
    "\n",
    "    # Compute rows, cols\n",
    "    example_height = int((n / example_width))\n",
    "    example_width = int(example_width)\n",
    "\n",
    "    # Compute number of items to display\n",
    "    display_rows = int(floor(sqrt(m)))\n",
    "    display_cols = int(ceil(m / display_rows))\n",
    "\n",
    "    # Between images padding\n",
    "    pad = 1\n",
    "\n",
    "    # Setup blank display\n",
    "    display_array = - ones((pad + display_rows * (example_height + pad),\n",
    "                            pad + display_cols * (example_width + pad)))\n",
    "\n",
    "    base_rows = arange(example_height)\n",
    "    base_cols = arange(example_width)\n",
    "\n",
    "    # Copy each example into a patch on the display array\n",
    "    curr_ex = 0\n",
    "    for j in range(display_rows):\n",
    "        for i in range(display_cols):\n",
    "            if curr_ex >= m:\n",
    "                break\n",
    "\n",
    "            # Copy the patch\n",
    "            # Get the max value of the patch\n",
    "            max_val = max(abs(X[curr_ex, :]))\n",
    "\n",
    "            #print X[curr_ex, :].reshape(example_height, example_width) / max_val\n",
    "            rows = pad + base_rows[:, newaxis] + j * (pad + example_height)\n",
    "            cols = pad + base_cols + i * (pad + example_width)\n",
    "            display_array[rows, cols] = X[curr_ex, :]\\\n",
    "              .reshape(example_height, example_width) / max_val\n",
    "            curr_ex += 1\n",
    "\n",
    "    imgplot = imshow(display_array.T)\n",
    "    # Gray Image\n",
    "    imgplot.set_cmap('gray')\n",
    "    axis('off')"
   ]
  },
  {
   "cell_type": "code",
   "execution_count": null,
   "metadata": {
    "collapsed": true,
    "deletable": true,
    "editable": true
   },
   "outputs": [],
   "source": [
    "eps = finfo(float64).eps\n",
    "eps = 1e-5\n",
    "\n",
    "def cost_function_reg(theta, X, y, lambda_):\n",
    "    '''cost function with regularization'''\n",
    "\n",
    "    m, n = X.shape\n",
    "    theta = theta.reshape(n, 1)\n",
    "    h_theta = sigmoid(X.dot(theta))\n",
    "    # tolerance values to avoid Precision loss error\n",
    "    h_theta[h_theta < eps] = eps\n",
    "    h_theta[(1. - eps < h_theta) & (h_theta < 1. + eps)] = 1 - eps\n",
    "\n",
    "    J = (- y.T.dot(log(h_theta)) - (1. - y).T.dot(log(1. - h_theta))) / m + lambda_ / (2. * m) * (theta[1:]**2).sum()\n",
    "\n",
    "    grad = (X.T.dot(h_theta - y) / m).flatten()\n",
    "    grad[1:] = grad[1:] + lambda_ / m * theta.flatten()[1:]\n",
    "\n",
    "    return J[0, 0], grad"
   ]
  },
  {
   "cell_type": "code",
   "execution_count": null,
   "metadata": {
    "collapsed": false,
    "deletable": true,
    "editable": true
   },
   "outputs": [],
   "source": [
    "def one_vs_all(X, y, num_labels, lambda_):\n",
    "    '''train multiple logistic regression classifier'''\n",
    "\n",
    "    m, n = X.shape\n",
    "    all_theta = zeros((num_labels, n + 1))\n",
    "    initial_theta = zeros((n + 1, 1))\n",
    "    X = c_[ones((m, 1)), X]\n",
    "\n",
    "    for i in range(1, num_labels + 1):\n",
    "        result = minimize(cost_function_reg,\n",
    "                      initial_theta,\n",
    "                      args=(X, y==i, lambda_),\n",
    "                      method='CG',\n",
    "                      jac=True,\n",
    "                      options=dict(maxiter=50))\n",
    "        cost = result.fun\n",
    "        print('Training {}, cost = {}'.format(i, cost))\n",
    "        theta = result.x\n",
    "        all_theta[i - 1, :] = theta\n",
    "\n",
    "    return all_theta"
   ]
  },
  {
   "cell_type": "code",
   "execution_count": null,
   "metadata": {
    "collapsed": true,
    "deletable": true,
    "editable": true
   },
   "outputs": [],
   "source": [
    "def predict_one_vs_all(all_theta, X):\n",
    "    m, n = X.shape\n",
    "    X = c_[ones((m, 1)), X]\n",
    "\n",
    "    return sigmoid(X.dot(all_theta.T)).argmax(axis=1) + 1"
   ]
  },
  {
   "cell_type": "code",
   "execution_count": null,
   "metadata": {
    "collapsed": true,
    "deletable": true,
    "editable": true
   },
   "outputs": [],
   "source": [
    "# Setup the parameters you will use for this part of the exercise\n",
    "# 20x20 Input Images of Digits\n",
    "# 10 labels, from 1 to 10   \n",
    "# (note that we have mapped \"0\" to label 10)\n",
    "\n",
    "input_layer_size = 400 \n",
    "num_labels = 10"
   ]
  },
  {
   "cell_type": "markdown",
   "metadata": {
    "deletable": true,
    "editable": true
   },
   "source": [
    "# Part 1: Loading and Visualizing Data"
   ]
  },
  {
   "cell_type": "code",
   "execution_count": null,
   "metadata": {
    "collapsed": false,
    "deletable": true,
    "editable": true
   },
   "outputs": [],
   "source": [
    "# training data stored in arrays X, y\n",
    "\n",
    "data1 = loadmat('ex3data1.mat')\n",
    "X = data1['X']\n",
    "y = data1['y']\n",
    "m, n = X.shape\n",
    "\n",
    "# Randomly select 100 data points to display\n",
    "rand_indices = permutation(m)\n",
    "sel = X[rand_indices[:100], :]\n",
    "\n",
    "display_data(sel)\n",
    "show(block=False)"
   ]
  },
  {
   "cell_type": "markdown",
   "metadata": {
    "deletable": true,
    "editable": true
   },
   "source": [
    "# Part 2: Vectorize Logistic Regression\n",
    "\n",
    "Training One-vs-All Logistic Regression..."
   ]
  },
  {
   "cell_type": "code",
   "execution_count": null,
   "metadata": {
    "collapsed": false,
    "deletable": true,
    "editable": true
   },
   "outputs": [],
   "source": [
    "lambda_ = 0.1\n",
    "all_theta = one_vs_all(X, y, num_labels, lambda_)"
   ]
  },
  {
   "cell_type": "markdown",
   "metadata": {
    "deletable": true,
    "editable": true
   },
   "source": [
    "# Part 3: Predict for One-Vs-All"
   ]
  },
  {
   "cell_type": "code",
   "execution_count": null,
   "metadata": {
    "collapsed": false,
    "deletable": true,
    "editable": true
   },
   "outputs": [],
   "source": [
    "pred = predict_one_vs_all(all_theta, X)\n",
    "print('Training Set Accuracy: {}'.format(mean(pred == y.flatten()) * 100))"
   ]
  }
 ],
 "metadata": {
  "kernelspec": {
   "display_name": "Python 3",
   "language": "python",
   "name": "python3"
  },
  "language_info": {
   "codemirror_mode": {
    "name": "ipython",
    "version": 3
   },
   "file_extension": ".py",
   "mimetype": "text/x-python",
   "name": "python",
   "nbconvert_exporter": "python",
   "pygments_lexer": "ipython3",
   "version": "3.6.0"
  }
 },
 "nbformat": 4,
 "nbformat_minor": 0
}
