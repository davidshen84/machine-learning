{
 "cells": [
  {
   "cell_type": "markdown",
   "metadata": {},
   "source": [
    "# Exercise 5 | Regularized Linear Regression and Bias-Variance"
   ]
  },
  {
   "cell_type": "code",
   "execution_count": 1,
   "metadata": {},
   "outputs": [],
   "source": [
    "%matplotlib inline\n",
    "\n",
    "import numpy as np\n",
    "import pandas as pd\n",
    "\n",
    "from matplotlib import pyplot as plt\n",
    "from scipy.io import loadmat\n",
    "from scipy.optimize import minimize\n",
    "from sklearn import preprocessing"
   ]
  },
  {
   "cell_type": "markdown",
   "metadata": {},
   "source": [
    "## Part 1: Loading and Visualizing Data\n",
    "\n",
    "We start the exercise by first loading and visualizing the\n",
    "dataset. The following code will load the dataset into your\n",
    "environment and plot the data."
   ]
  },
  {
   "cell_type": "code",
   "execution_count": 2,
   "metadata": {},
   "outputs": [
    {
     "data": {
      "text/plain": [
       "Text(0,0.5,'Water flowing out of the dam (y)')"
      ]
     },
     "execution_count": 2,
     "metadata": {},
     "output_type": "execute_result"
    },
    {
     "data": {
      "image/png": "[encoded data removed]",
      "text/plain": [
       "<Figure size 432x288 with 1 Axes>"
      ]
     },
     "metadata": {},
     "output_type": "display_data"
    }
   ],
   "source": [
    "# Loading and Visualizing Data ...\n",
    "\n",
    "data1 = loadmat('ex5data1.mat')\n",
    "\n",
    "X = data1['X']\n",
    "Xtest = data1['Xtest']\n",
    "Xval = data1['Xval']\n",
    "y = data1['y']\n",
    "ytest = data1['ytest']\n",
    "yval = data1['yval']\n",
    "\n",
    "m = X.shape[0]\n",
    "\n",
    "plt.plot(X, y, 'rx', markersize=10, linewidth=1.5)\n",
    "plt.xlabel('Change in water level (x)')\n",
    "plt.ylabel('Water flowing out of the dam (y)')"
   ]
  },
  {
   "cell_type": "markdown",
   "metadata": {},
   "source": [
    "## Part 2: Regularized Linear Regression Cost\n",
    "\n",
    "You should now implement the cost function for regularized linear\n",
    "regression."
   ]
  },
  {
   "cell_type": "code",
   "execution_count": 3,
   "metadata": {},
   "outputs": [],
   "source": [
    "def linear_reg_cost_function(theta, X, y, lambda_):\n",
    "    \"\"\"Compute cost and gradient for regularized linear regression with multiple variables.\"\"\"\n",
    "\n",
    "    m = len(y)\n",
    "    theta = theta.reshape(-1, 1)\n",
    "\n",
    "    temp = X.dot(theta) - y\n",
    "    J = (temp.T.dot(temp)) / (2 * m) + lambda_ / (2 * m) * np.sum(theta[1:] ** 2)\n",
    "\n",
    "    grad = X.T.dot(temp) / m\n",
    "    grad[1:] += lambda_ / m * theta[1:]\n",
    "\n",
    "    return J, grad.flatten()"
   ]
  },
  {
   "cell_type": "code",
   "execution_count": 4,
   "metadata": {},
   "outputs": [
    {
     "name": "stdout",
     "output_type": "stream",
     "text": [
      "Cost at theta = [1 ; 1]: [[303.99319222]]\n",
      "(this value should be about 303.993192)\n"
     ]
    }
   ],
   "source": [
    "theta = np.array([1, 1]).reshape((2, 1))\n",
    "J, _ = linear_reg_cost_function(theta, np.c_[np.ones((m, 1)), X], y, 1)\n",
    "\n",
    "print(f'''Cost at theta = [1 ; 1]: {J}\n",
    "(this value should be about 303.993192)''')"
   ]
  },
  {
   "cell_type": "markdown",
   "metadata": {
    "collapsed": true
   },
   "source": [
    "## Part 3: Regularized Linear Regression Gradient\n",
    "\n",
    "You should now implement the gradient for regularized linear regression."
   ]
  },
  {
   "cell_type": "code",
   "execution_count": 5,
   "metadata": {},
   "outputs": [
    {
     "name": "stdout",
     "output_type": "stream",
     "text": [
      "Gradient at theta = [1 ; 1]:  [-15.303015674201186; 598.2507441727037]\n",
      "(this value should be about [-15.303016; 598.250744])\n"
     ]
    }
   ],
   "source": [
    "theta = np.array([1, 1]).reshape((2, 1))\n",
    "J, grad = linear_reg_cost_function(theta, np.c_[np.ones((m, 1)), X], y, 1)\n",
    "\n",
    "print(f'''Gradient at theta = [1 ; 1]:  [{grad[0]}; {grad[1]}]\n",
    "(this value should be about [-15.303016; 598.250744])''')"
   ]
  },
  {
   "cell_type": "markdown",
   "metadata": {},
   "source": [
    "## Part 4: Train Linear Regression\n",
    "\n",
    "Once you have implemented the cost and gradient correctly, the\n",
    "trainLinearReg function will use your cost function to train\n",
    "regularized linear regression.\n",
    "\n",
    "Write Up Note: The data is non-linear, so this will not give a great fit."
   ]
  },
  {
   "cell_type": "code",
   "execution_count": 6,
   "metadata": {},
   "outputs": [],
   "source": [
    "def train_linear_reg(X, y, lambda_):\n",
    "    \"\"\"Trains linear regression given a dataset (X, y) and a regularization parameter lambda.\"\"\"\n",
    "    \n",
    "    initial_theta = np.zeros((X.shape[1], 1))\n",
    "    result = minimize(linear_reg_cost_function,\n",
    "                      initial_theta,\n",
    "                      args=(X, y, lambda_),\n",
    "                      method='CG',\n",
    "                      jac=True,\n",
    "                      options=dict(maxiter=200))\n",
    "    \n",
    "    return result.x"
   ]
  },
  {
   "cell_type": "code",
   "execution_count": 7,
   "metadata": {},
   "outputs": [
    {
     "data": {
      "text/plain": [
       "[<matplotlib.lines.Line2D at 0x20cc3716160>]"
      ]
     },
     "execution_count": 7,
     "metadata": {},
     "output_type": "execute_result"
    },
    {
     "data": {
      "image/png": "[encoded data removed]",
      "text/plain": [
       "<Figure size 432x288 with 1 Axes>"
      ]
     },
     "metadata": {},
     "output_type": "display_data"
    }
   ],
   "source": [
    "# Train linear regression with lambda = 0\n",
    "lambda_ = 0\n",
    "theta = train_linear_reg(np.c_[np.ones((m, 1)), X], y, lambda_)\n",
    "\n",
    "# Plot fit over the data\n",
    "plt.plot(X, y, 'rx', markersize=10, linewidth=1.5)\n",
    "plt.xlabel('Change in water level (x)')\n",
    "plt.ylabel('Water flowing out of the dam (y)')\n",
    "plt.plot(X, np.c_[np.ones((m, 1)), X].dot(theta), '--', linewidth=2)"
   ]
  },
  {
   "cell_type": "markdown",
   "metadata": {},
   "source": [
    "## Part 5: Learning Curve for Linear Regression"
   ]
  },
  {
   "cell_type": "code",
   "execution_count": 8,
   "metadata": {},
   "outputs": [],
   "source": [
    "def learning_curve(X, y, Xval, yval, lambda_):\n",
    "    \"\"\"Generates the train and cross validation set errors needed to plot a learning curve\"\"\"\n",
    "\n",
    "    m = X.shape[0]\n",
    "    error_train = np.zeros((m, 1))\n",
    "    error_val = np.zeros((m, 1))\n",
    "\n",
    "    for i in range(m):\n",
    "        theta_i = train_linear_reg(X[:i+1], y[:i+1], lambda_)\n",
    "        error_train[i], _ = linear_reg_cost_function(theta_i, X[:i+1], y[:i+1], 0)\n",
    "        error_val[i], _ = linear_reg_cost_function(theta_i, Xval, yval, 0)\n",
    "\n",
    "    return error_train, error_val"
   ]
  },
  {
   "cell_type": "code",
   "execution_count": 9,
   "metadata": {},
   "outputs": [
    {
     "data": {
      "text/html": [
       "<div>\n",
       "<style scoped>\n",
       "    .dataframe tbody tr th:only-of-type {\n",
       "        vertical-align: middle;\n",
       "    }\n",
       "\n",
       "    .dataframe tbody tr th {\n",
       "        vertical-align: top;\n",
       "    }\n",
       "\n",
       "    .dataframe thead th {\n",
       "        text-align: right;\n",
       "    }\n",
       "</style>\n",
       "<table border=\"1\" class=\"dataframe\">\n",
       "  <thead>\n",
       "    <tr style=\"text-align: right;\">\n",
       "      <th></th>\n",
       "      <th>Train Error</th>\n",
       "      <th>Cross Validation Error</th>\n",
       "    </tr>\n",
       "  </thead>\n",
       "  <tbody>\n",
       "    <tr>\n",
       "      <th>0</th>\n",
       "      <td>3.944305e-31</td>\n",
       "      <td>205.121096</td>\n",
       "    </tr>\n",
       "    <tr>\n",
       "      <th>1</th>\n",
       "      <td>6.409495e-31</td>\n",
       "      <td>110.300366</td>\n",
       "    </tr>\n",
       "    <tr>\n",
       "      <th>2</th>\n",
       "      <td>3.286595e+00</td>\n",
       "      <td>45.010232</td>\n",
       "    </tr>\n",
       "    <tr>\n",
       "      <th>3</th>\n",
       "      <td>2.842678e+00</td>\n",
       "      <td>48.368911</td>\n",
       "    </tr>\n",
       "    <tr>\n",
       "      <th>4</th>\n",
       "      <td>1.315405e+01</td>\n",
       "      <td>35.865141</td>\n",
       "    </tr>\n",
       "    <tr>\n",
       "      <th>5</th>\n",
       "      <td>1.944396e+01</td>\n",
       "      <td>33.829957</td>\n",
       "    </tr>\n",
       "    <tr>\n",
       "      <th>6</th>\n",
       "      <td>2.009852e+01</td>\n",
       "      <td>31.970987</td>\n",
       "    </tr>\n",
       "    <tr>\n",
       "      <th>7</th>\n",
       "      <td>1.817286e+01</td>\n",
       "      <td>30.862446</td>\n",
       "    </tr>\n",
       "    <tr>\n",
       "      <th>8</th>\n",
       "      <td>2.260941e+01</td>\n",
       "      <td>31.135998</td>\n",
       "    </tr>\n",
       "    <tr>\n",
       "      <th>9</th>\n",
       "      <td>2.326146e+01</td>\n",
       "      <td>28.936207</td>\n",
       "    </tr>\n",
       "    <tr>\n",
       "      <th>10</th>\n",
       "      <td>2.431725e+01</td>\n",
       "      <td>29.551432</td>\n",
       "    </tr>\n",
       "    <tr>\n",
       "      <th>11</th>\n",
       "      <td>2.237391e+01</td>\n",
       "      <td>29.433818</td>\n",
       "    </tr>\n",
       "  </tbody>\n",
       "</table>\n",
       "</div>"
      ],
      "text/plain": [
       "     Train Error  Cross Validation Error\n",
       "0   3.944305e-31              205.121096\n",
       "1   6.409495e-31              110.300366\n",
       "2   3.286595e+00               45.010232\n",
       "3   2.842678e+00               48.368911\n",
       "4   1.315405e+01               35.865141\n",
       "5   1.944396e+01               33.829957\n",
       "6   2.009852e+01               31.970987\n",
       "7   1.817286e+01               30.862446\n",
       "8   2.260941e+01               31.135998\n",
       "9   2.326146e+01               28.936207\n",
       "10  2.431725e+01               29.551432\n",
       "11  2.237391e+01               29.433818"
      ]
     },
     "execution_count": 9,
     "metadata": {},
     "output_type": "execute_result"
    },
    {
     "data": {
      "image/png": "[encoded data removed]",
      "text/plain": [
       "<Figure size 432x288 with 1 Axes>"
      ]
     },
     "metadata": {},
     "output_type": "display_data"
    }
   ],
   "source": [
    "lambda_ = 0\n",
    "error_train, error_val = learning_curve(np.c_[np.ones((m, 1)), X], y,\n",
    "                                        np.c_[np.ones((Xval.shape[0], 1)), Xval], yval,\n",
    "                                        lambda_)\n",
    "\n",
    "plt.plot(range(m), error_train, range(m), error_val)\n",
    "plt.title('Learning curve for linear regression')\n",
    "plt.legend(['Train', 'Cross Validation'])\n",
    "plt.xlabel('number of training examples')\n",
    "plt.ylabel('Error')\n",
    "plt.axis([0, 13, 0, 200])\n",
    "\n",
    "df = pd.DataFrame({#'Training Examples': range(m),\n",
    "                   'Train Error': error_train.flatten(),\n",
    "                   'Cross Validation Error': error_val.flatten()})\n",
    "df[['Train Error', 'Cross Validation Error']]"
   ]
  },
  {
   "cell_type": "markdown",
   "metadata": {},
   "source": [
    "# Part 6: Feature Mapping for Polynomial Regression\n",
    "\n",
    "One solution to this is to use polynomial regression. You should now\n",
    "complete polyFeatures to map each example into its powers."
   ]
  },
  {
   "cell_type": "code",
   "execution_count": 10,
   "metadata": {},
   "outputs": [
    {
     "name": "stdout",
     "output_type": "stream",
     "text": [
      "Normalized Training Example 1:\n",
      "[ 1.         -0.3782437  -0.78866232  0.19032872 -0.7375913   0.32025197\n",
      " -0.6171516   0.35983501 -0.53109126]\n"
     ]
    }
   ],
   "source": [
    "p = 8\n",
    "\n",
    "# Map X onto Polynomial Features and Normalize\n",
    "poly8 = preprocessing.PolynomialFeatures(p, include_bias=False)\n",
    "X_poly = poly8.fit_transform(X)\n",
    "scaler = preprocessing.StandardScaler().fit(X_poly)  # save for later\n",
    "X_poly = scaler.transform(X_poly)\n",
    "X_poly = np.c_[np.ones((m, 1)), X_poly]  # add interceptor\n",
    "\n",
    "# Map X_poly_test and normalize\n",
    "X_poly_test = poly8.fit_transform(Xtest)\n",
    "X_poly_test = scaler.transform(X_poly_test)\n",
    "X_poly_test = np.c_[np.ones((Xtest.shape[0], 1)), X_poly_test]\n",
    "\n",
    "# Map X_poly_val and normalize\n",
    "X_poly_val = poly8.fit_transform(Xval)\n",
    "X_poly_val = scaler.transform(X_poly_val)\n",
    "X_poly_val = np.c_[np.ones((Xval.shape[0], 1)), X_poly_val]\n",
    "\n",
    "print(f'''Normalized Training Example 1:\n",
    "{X_poly[0]}''')"
   ]
  },
  {
   "cell_type": "markdown",
   "metadata": {},
   "source": [
    "# Part 7: Learning Curve for Polynomial Regression\n",
    "\n",
    "Now, you will get to experiment with polynomial regression with\n",
    "multiple values of lambda. The code below runs polynomial regression\n",
    "with lambda = 0. You should try running the code with different values\n",
    "of lambda to see how the fit and learning curve change."
   ]
  },
  {
   "cell_type": "code",
   "execution_count": 11,
   "metadata": {},
   "outputs": [],
   "source": [
    "lambda_ = 0\n",
    "theta = train_linear_reg(X_poly, y, lambda_)"
   ]
  },
  {
   "cell_type": "code",
   "execution_count": 12,
   "metadata": {
    "scrolled": false
   },
   "outputs": [
    {
     "name": "stdout",
     "output_type": "stream",
     "text": [
      "Polynomial Regression (lambda = 0.000000)\n"
     ]
    },
    {
     "data": {
      "text/html": [
       "<div>\n",
       "<style scoped>\n",
       "    .dataframe tbody tr th:only-of-type {\n",
       "        vertical-align: middle;\n",
       "    }\n",
       "\n",
       "    .dataframe tbody tr th {\n",
       "        vertical-align: top;\n",
       "    }\n",
       "\n",
       "    .dataframe thead th {\n",
       "        text-align: right;\n",
       "    }\n",
       "</style>\n",
       "<table border=\"1\" class=\"dataframe\">\n",
       "  <thead>\n",
       "    <tr style=\"text-align: right;\">\n",
       "      <th></th>\n",
       "      <th>Train Error</th>\n",
       "      <th>Cross Validation Error</th>\n",
       "    </tr>\n",
       "  </thead>\n",
       "  <tbody>\n",
       "    <tr>\n",
       "      <th>0</th>\n",
       "      <td>9.860761e-32</td>\n",
       "      <td>161.442168</td>\n",
       "    </tr>\n",
       "    <tr>\n",
       "      <th>1</th>\n",
       "      <td>2.517083e-28</td>\n",
       "      <td>160.792292</td>\n",
       "    </tr>\n",
       "    <tr>\n",
       "      <th>2</th>\n",
       "      <td>4.617443e-11</td>\n",
       "      <td>67.084922</td>\n",
       "    </tr>\n",
       "    <tr>\n",
       "      <th>3</th>\n",
       "      <td>2.959583e-21</td>\n",
       "      <td>67.726849</td>\n",
       "    </tr>\n",
       "    <tr>\n",
       "      <th>4</th>\n",
       "      <td>1.039297e-17</td>\n",
       "      <td>6.616987</td>\n",
       "    </tr>\n",
       "    <tr>\n",
       "      <th>5</th>\n",
       "      <td>1.165976e-15</td>\n",
       "      <td>10.643063</td>\n",
       "    </tr>\n",
       "    <tr>\n",
       "      <th>6</th>\n",
       "      <td>1.333938e-07</td>\n",
       "      <td>28.020806</td>\n",
       "    </tr>\n",
       "    <tr>\n",
       "      <th>7</th>\n",
       "      <td>4.935675e-05</td>\n",
       "      <td>23.662208</td>\n",
       "    </tr>\n",
       "    <tr>\n",
       "      <th>8</th>\n",
       "      <td>1.230288e-01</td>\n",
       "      <td>8.220899</td>\n",
       "    </tr>\n",
       "    <tr>\n",
       "      <th>9</th>\n",
       "      <td>1.780069e-02</td>\n",
       "      <td>53.473019</td>\n",
       "    </tr>\n",
       "    <tr>\n",
       "      <th>10</th>\n",
       "      <td>6.165523e-02</td>\n",
       "      <td>10.652562</td>\n",
       "    </tr>\n",
       "    <tr>\n",
       "      <th>11</th>\n",
       "      <td>3.147843e-02</td>\n",
       "      <td>36.208981</td>\n",
       "    </tr>\n",
       "  </tbody>\n",
       "</table>\n",
       "</div>"
      ],
      "text/plain": [
       "     Train Error  Cross Validation Error\n",
       "0   9.860761e-32              161.442168\n",
       "1   2.517083e-28              160.792292\n",
       "2   4.617443e-11               67.084922\n",
       "3   2.959583e-21               67.726849\n",
       "4   1.039297e-17                6.616987\n",
       "5   1.165976e-15               10.643063\n",
       "6   1.333938e-07               28.020806\n",
       "7   4.935675e-05               23.662208\n",
       "8   1.230288e-01                8.220899\n",
       "9   1.780069e-02               53.473019\n",
       "10  6.165523e-02               10.652562\n",
       "11  3.147843e-02               36.208981"
      ]
     },
     "execution_count": 12,
     "metadata": {},
     "output_type": "execute_result"
    },
    {
     "data": {
      "image/png": "[encoded data removed]",
      "text/plain": [
       "<Figure size 1440x720 with 2 Axes>"
      ]
     },
     "metadata": {},
     "output_type": "display_data"
    }
   ],
   "source": [
    "# draw two chart side by side\n",
    "fig, (ax1, ax2) = plt.subplots(1, 2, figsize=(20, 10))\n",
    "\n",
    "ax1.plot(X, y, 'rx', markersize=10, linewidth=1.5)\n",
    "\n",
    "# plot fit\n",
    "# We plot a range slightly bigger than the min and max values to get\n",
    "# an idea of how the fit will vary outside the range of the data\n",
    "# points.\n",
    "X_fit = np.arange(np.min(X) - 15, np.max(X) + 25, 0.05, dtype=np.float).reshape((-1, 1))\n",
    "X_poly_fit = poly8.fit_transform(X_fit)\n",
    "X_poly_fit = scaler.transform(X_poly_fit)\n",
    "X_poly_fit = np.c_[np.ones((X_fit.shape[0], 1)), X_poly_fit]\n",
    "\n",
    "ax1.plot(X_fit, X_poly_fit.dot(theta), '--', linewidth=2)\n",
    "ax1.set_xlabel('Change in water level (x)')\n",
    "ax1.set_ylabel('Water flowing out of the dam (y)')\n",
    "ax1.set_title(f'Polynomial Regression Fit (lambda = {lambda_:.2f})')\n",
    "\n",
    "error_train, error_val = learning_curve(X_poly, y, X_poly_val, yval, lambda_)\n",
    "ax2.plot(range(m), error_train, range(m), error_val)\n",
    "ax2.set_title(f'Polynomial Regression Learning Curve (lambda = {lambda_:f})')\n",
    "ax2.set_xlabel('Number of training examples')\n",
    "ax2.set_ylabel('Error')\n",
    "ax2.axis([0, 13, 0, 100])\n",
    "ax2.legend(['Train', 'Cross Validation'])\n",
    "\n",
    "print(f'Polynomial Regression (lambda = {lambda_:f})')\n",
    "df = pd.DataFrame({'Train Error': error_train.flatten(),\n",
    "                   'Cross Validation Error': error_val.flatten()})\n",
    "df[['Train Error', 'Cross Validation Error']]"
   ]
  },
  {
   "cell_type": "markdown",
   "metadata": {},
   "source": [
    "# Part 8: Validation for Selecting Lambda\n",
    "\n",
    "You will now implement validationCurve to test various values of\n",
    "lambda on a validation set. You will then use this to select the\n",
    "**best** lambda value."
   ]
  },
  {
   "cell_type": "code",
   "execution_count": 13,
   "metadata": {},
   "outputs": [],
   "source": [
    "def validation_curve(X, y, Xval, yval):\n",
    "    lambda_vec = np.array([0, 0.001, 0.003, 0.01, 0.03, 0.1, 0.3, 1, 3, 10]).reshape((-1, 1))\n",
    "\n",
    "    m = lambda_vec.shape[0]\n",
    "    error_train = np.zeros((m, 1))\n",
    "    error_val = np.zeros((m, 1)) \n",
    "\n",
    "    for i in range(m):\n",
    "        theta = train_linear_reg(X, y, lambda_vec[i, 0])\n",
    "        error_train[i], _ = linear_reg_cost_function(theta, X, y, 0)\n",
    "        error_val[i], _ = linear_reg_cost_function(theta, Xval, yval, 0)\n",
    "\n",
    "    return lambda_vec, error_train, error_val"
   ]
  },
  {
   "cell_type": "code",
   "execution_count": 14,
   "metadata": {},
   "outputs": [
    {
     "data": {
      "text/html": [
       "<div>\n",
       "<style scoped>\n",
       "    .dataframe tbody tr th:only-of-type {\n",
       "        vertical-align: middle;\n",
       "    }\n",
       "\n",
       "    .dataframe tbody tr th {\n",
       "        vertical-align: top;\n",
       "    }\n",
       "\n",
       "    .dataframe thead th {\n",
       "        text-align: right;\n",
       "    }\n",
       "</style>\n",
       "<table border=\"1\" class=\"dataframe\">\n",
       "  <thead>\n",
       "    <tr style=\"text-align: right;\">\n",
       "      <th></th>\n",
       "      <th>lambda</th>\n",
       "      <th>Train Error</th>\n",
       "      <th>Validation Error</th>\n",
       "    </tr>\n",
       "  </thead>\n",
       "  <tbody>\n",
       "    <tr>\n",
       "      <th>0</th>\n",
       "      <td>0.000</td>\n",
       "      <td>0.031478</td>\n",
       "      <td>36.208981</td>\n",
       "    </tr>\n",
       "    <tr>\n",
       "      <th>1</th>\n",
       "      <td>0.001</td>\n",
       "      <td>0.126644</td>\n",
       "      <td>11.858447</td>\n",
       "    </tr>\n",
       "    <tr>\n",
       "      <th>2</th>\n",
       "      <td>0.003</td>\n",
       "      <td>0.166746</td>\n",
       "      <td>15.916646</td>\n",
       "    </tr>\n",
       "    <tr>\n",
       "      <th>3</th>\n",
       "      <td>0.010</td>\n",
       "      <td>0.217889</td>\n",
       "      <td>17.142670</td>\n",
       "    </tr>\n",
       "    <tr>\n",
       "      <th>4</th>\n",
       "      <td>0.030</td>\n",
       "      <td>0.275148</td>\n",
       "      <td>13.217171</td>\n",
       "    </tr>\n",
       "    <tr>\n",
       "      <th>5</th>\n",
       "      <td>0.100</td>\n",
       "      <td>0.438650</td>\n",
       "      <td>7.927129</td>\n",
       "    </tr>\n",
       "    <tr>\n",
       "      <th>6</th>\n",
       "      <td>0.300</td>\n",
       "      <td>0.868168</td>\n",
       "      <td>4.760805</td>\n",
       "    </tr>\n",
       "    <tr>\n",
       "      <th>7</th>\n",
       "      <td>1.000</td>\n",
       "      <td>1.958695</td>\n",
       "      <td>4.263359</td>\n",
       "    </tr>\n",
       "    <tr>\n",
       "      <th>8</th>\n",
       "      <td>3.000</td>\n",
       "      <td>4.525105</td>\n",
       "      <td>3.832176</td>\n",
       "    </tr>\n",
       "    <tr>\n",
       "      <th>9</th>\n",
       "      <td>10.000</td>\n",
       "      <td>14.825808</td>\n",
       "      <td>8.889725</td>\n",
       "    </tr>\n",
       "  </tbody>\n",
       "</table>\n",
       "</div>"
      ],
      "text/plain": [
       "   lambda  Train Error  Validation Error\n",
       "0   0.000     0.031478         36.208981\n",
       "1   0.001     0.126644         11.858447\n",
       "2   0.003     0.166746         15.916646\n",
       "3   0.010     0.217889         17.142670\n",
       "4   0.030     0.275148         13.217171\n",
       "5   0.100     0.438650          7.927129\n",
       "6   0.300     0.868168          4.760805\n",
       "7   1.000     1.958695          4.263359\n",
       "8   3.000     4.525105          3.832176\n",
       "9  10.000    14.825808          8.889725"
      ]
     },
     "execution_count": 14,
     "metadata": {},
     "output_type": "execute_result"
    },
    {
     "data": {
      "image/png": "[encoded data removed]",
      "text/plain": [
       "<Figure size 432x288 with 1 Axes>"
      ]
     },
     "metadata": {},
     "output_type": "display_data"
    }
   ],
   "source": [
    "lambda_vec, error_train, error_val = validation_curve(X_poly, y, X_poly_val, yval)\n",
    "\n",
    "plt.plot(lambda_vec, error_train, lambda_vec, error_val)\n",
    "plt.legend(['Train', 'Cross Validation'])\n",
    "plt.xlabel('lambda')\n",
    "plt.ylabel('Error')\n",
    "\n",
    "df = pd.DataFrame({'lambda': lambda_vec.flatten(),\n",
    "                   'Train Error': error_train.flatten(),\n",
    "                   'Validation Error': error_val.flatten()})\n",
    "df[['lambda', 'Train Error', 'Validation Error']]"
   ]
  }
 ],
 "metadata": {
  "kernelspec": {
   "display_name": "Python 3",
   "language": "python",
   "name": "python3"
  },
  "language_info": {
   "codemirror_mode": {
    "name": "ipython",
    "version": 3
   },
   "file_extension": ".py",
   "mimetype": "text/x-python",
   "name": "python",
   "nbconvert_exporter": "python",
   "pygments_lexer": "ipython3",
   "version": "3.6.5"
  }
 },
 "nbformat": 4,
 "nbformat_minor": 2
}
