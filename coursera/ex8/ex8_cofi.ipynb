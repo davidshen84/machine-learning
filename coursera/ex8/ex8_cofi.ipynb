{
 "cells": [
  {
   "cell_type": "markdown",
   "metadata": {},
   "source": [
    "# Exercise 8\n",
    "\n",
    "Anomaly Detection and Collaborative Filtering"
   ]
  },
  {
   "cell_type": "code",
   "execution_count": 1,
   "metadata": {},
   "outputs": [],
   "source": [
    "import io\n",
    "import matplotlib.pyplot as plt\n",
    "\n",
    "import numpy as np\n",
    "from numpy import linalg\n",
    "\n",
    "from scipy.io import loadmat\n",
    "from scipy.optimize import minimize"
   ]
  },
  {
   "cell_type": "markdown",
   "metadata": {},
   "source": [
    "## Part 1: Loading movie ratings dataset\n",
    "\n",
    "You will start by loading the movie ratings dataset to understand the\n",
    "structure of the data."
   ]
  },
  {
   "cell_type": "code",
   "execution_count": 2,
   "metadata": {},
   "outputs": [
    {
     "name": "stdout",
     "output_type": "stream",
     "text": [
      "(1682, 943)\n",
      "(1682, 943)\n"
     ]
    }
   ],
   "source": [
    "data = loadmat('ex8_movies.mat')\n",
    "\n",
    "# Ratings of movies\n",
    "Y = data['Y']\n",
    "print(Y.shape)\n",
    "\n",
    "# R[i, j] = 1, indicating user j gave a rating to movie i.\n",
    "R = data['R']\n",
    "print(R.shape)"
   ]
  },
  {
   "cell_type": "code",
   "execution_count": 3,
   "metadata": {},
   "outputs": [
    {
     "name": "stdout",
     "output_type": "stream",
     "text": [
      "Average rating for movie 1 (Toy Story): 2.58 / 5\n"
     ]
    }
   ],
   "source": [
    "#  From the matrix, we can compute statistics like average rating.\n",
    "print(f'Average rating for movie 1 (Toy Story): {np.mean(Y[1, R[1, :]]):2.3} / 5')"
   ]
  },
  {
   "cell_type": "code",
   "execution_count": 4,
   "metadata": {},
   "outputs": [
    {
     "data": {
      "image/png": "[encoded data removed]",
      "text/plain": [
       "<Figure size 432x288 with 2 Axes>"
      ]
     },
     "metadata": {
      "needs_background": "light"
     },
     "output_type": "display_data"
    }
   ],
   "source": [
    "# We can \"visualize\" the ratings matrix by plotting it with imagesc.\n",
    "plt.imshow(Y, aspect='auto');\n",
    "plt.colorbar();\n",
    "plt.ylabel('Movies');\n",
    "plt.xlabel('Users');"
   ]
  },
  {
   "cell_type": "markdown",
   "metadata": {},
   "source": [
    "## Part 2: Collaborative Filtering Cost Function\n",
    "\n",
    "You will now implement the cost function for collaborative\n",
    "filtering. To help you debug your cost function, we have included set\n",
    "of weights that we trained on that. Specifically, you should complete\n",
    "the code in cofiCostFunc.m to return J."
   ]
  },
  {
   "cell_type": "code",
   "execution_count": 5,
   "metadata": {},
   "outputs": [],
   "source": [
    "# Load pre-trained weights (X, Theta, num_users, num_movies, num_features).\n",
    "data = loadmat('ex8_movieParams.mat')\n",
    "\n",
    "X = data['X']\n",
    "Theta = data['Theta']\n",
    "num_users = data['num_users']\n",
    "num_movies = data['num_movies']\n",
    "num_features = data['num_features']"
   ]
  },
  {
   "cell_type": "code",
   "execution_count": 6,
   "metadata": {},
   "outputs": [],
   "source": [
    "# Reduce the data set size so that this runs faster.\n",
    "\n",
    "num_users = 4\n",
    "num_movies = 5\n",
    "num_features = 3\n",
    "X = X[:num_movies, :num_features]\n",
    "Theta = Theta[:num_users, : num_features]\n",
    "Y = Y[:num_movies, :num_users]\n",
    "R = R[:num_movies, :num_users]"
   ]
  },
  {
   "cell_type": "code",
   "execution_count": 7,
   "metadata": {},
   "outputs": [],
   "source": [
    "def cofi_cost_func(params, Y, R, num_users, num_movies, num_features, lambda_):\n",
    "    '''Returns the cost and gradient fo rthe collaborative filtering problem.'''\n",
    "\n",
    "    X = params[:(num_movies * num_features)].reshape((num_movies, num_features))\n",
    "    Theta = params[(num_movies * num_features):].reshape((num_users, num_features))\n",
    "    \n",
    "    tmp = (np.dot(X, Theta.T) - Y) * R\n",
    "    J = np.sum(tmp ** 2) / 2 + lambda_ * .5 * np.sum(X ** 2) + lambda_ * .5 * np.sum(Theta ** 2)\n",
    "    \n",
    "    X_grad = np.dot(tmp, Theta) + lambda_ * X\n",
    "    Theta_grad = np.dot(tmp.T, X) + lambda_ * Theta\n",
    "    \n",
    "    grad = np.concatenate((X_grad.reshape(-1), Theta_grad.reshape(-1)))\n",
    "    \n",
    "    return J, grad"
   ]
  },
  {
   "cell_type": "code",
   "execution_count": 8,
   "metadata": {},
   "outputs": [
    {
     "name": "stdout",
     "output_type": "stream",
     "text": [
      "Cost at loaded parameters: 22.225\n",
      "(this value should be about 22.22)\n"
     ]
    }
   ],
   "source": [
    "J, _ = cofi_cost_func(np.concatenate((X.reshape(-1), Theta.reshape(-1))), Y, R, num_users, num_movies, num_features, 0)\n",
    "\n",
    "print(f'''Cost at loaded parameters: {J:5.3f}\n",
    "(this value should be about 22.22)''')"
   ]
  },
  {
   "cell_type": "markdown",
   "metadata": {},
   "source": [
    "# Part 3: Collaborative Filtering Gradient\n",
    "\n",
    "Once your cost function matches up with ours, you should now implement\n",
    "the collaborative filtering gradient function. Specifically, you\n",
    "should complete the code in cofiCostFunc.m to return the grad\n",
    "argument."
   ]
  },
  {
   "cell_type": "code",
   "execution_count": 9,
   "metadata": {},
   "outputs": [],
   "source": [
    "def compute_numberical_gradient(J, theta):\n",
    "    '''Computes the gradient using \"finite differences\" and gives us a numerical estimate of the gradient.'''\n",
    "    \n",
    "    numgrad = np.zeros_like(theta)\n",
    "    perturb = np.zeros_like(theta)\n",
    "    e = 1e-4\n",
    "    for p in range(theta.size):\n",
    "        perturb[p] = e\n",
    "        loss1, _ = J(theta - perturb)\n",
    "        loss2, _ = J(theta + perturb)\n",
    "        \n",
    "        numgrad[p] = (loss2 - loss1) / (2 * e)\n",
    "        perturb[p] = 0\n",
    "        \n",
    "    return numgrad\n",
    "\n",
    "def check_cost_function(lambda_=None):\n",
    "    '''Creates a collaborative filering problem to check your cost function\n",
    "and gradients, it will output the analytical gradients produced by\n",
    "your code and the numerical gradients (computed using\n",
    "computeNumericalGradient). These two gradient computations should\n",
    "result in very similar values.\n",
    "    '''\n",
    "    \n",
    "    if lambda_ is None:\n",
    "        lambda_ = 0\n",
    "    \n",
    "    # Create a small problem\n",
    "    X_t = np.random.rand(4, 3)\n",
    "    Theta_t = np.random.rand(5, 3)\n",
    "    \n",
    "    # Zap out most entries\n",
    "    Y = np.dot(X_t, Theta_t.T)\n",
    "    Y[np.random.rand(*Y.shape) > .5] = 0\n",
    "    R = np.zeros_like(Y)\n",
    "    R[Y != 0] = 1\n",
    "    \n",
    "    # Run Gradient Checking\n",
    "    X = np.random.randn(*X_t.shape)\n",
    "    Theta = np.random.randn(*Theta_t.shape)\n",
    "    num_movies, num_users = Y.shape\n",
    "    num_features = Theta_t.shape[1]\n",
    "    \n",
    "    numgrad = compute_numberical_gradient(\n",
    "        lambda t: cofi_cost_func(t, Y, R, num_users, num_movies, num_features, lambda_),\n",
    "        np.concatenate((X.reshape(-1), Theta.reshape(-1)))\n",
    "    )\n",
    "    \n",
    "    cost, grad = cofi_cost_func(np.concatenate((X.reshape(-1), Theta.reshape(-1))), Y, R, num_users, num_movies, num_features, lambda_)\n",
    "    print(f'''{numgrad}\n",
    "{grad}\n",
    "The above two columns you get should be very similar.\n",
    "(Left-Your Numerical Gradient, Right-Analytical Gradient)\n",
    "''')\n",
    "    \n",
    "    diff = linalg.norm(numgrad - grad) / linalg.norm(numgrad + grad)\n",
    "    print(f'''If your backpropagation implementation is correct, then the relative\n",
    "difference will be small (less than 1e-9).\n",
    "Relative Difference: {diff:2.5}''')"
   ]
  },
  {
   "cell_type": "code",
   "execution_count": 10,
   "metadata": {},
   "outputs": [
    {
     "name": "stdout",
     "output_type": "stream",
     "text": [
      "[-0.54706025  1.34755638 -1.91316978 -0.99264258  0.21116674 -1.25686937\n",
      " -0.28787058  2.50315145 -2.68647009 -0.04751976  0.49462186  1.98494842\n",
      "  0.          0.          0.          0.          0.          0.\n",
      "  2.52419066 -1.57998713 -3.68580477  1.15899839 -1.00274487 -2.00998836\n",
      "  0.2082124  -6.02193636  0.10132414]\n",
      "[-0.54706025  1.34755638 -1.91316978 -0.99264258  0.21116674 -1.25686937\n",
      " -0.28787058  2.50315145 -2.68647009 -0.04751976  0.49462186  1.98494842\n",
      "  0.          0.          0.          0.          0.          0.\n",
      "  2.52419066 -1.57998713 -3.68580477  1.15899839 -1.00274487 -2.00998836\n",
      "  0.2082124  -6.02193636  0.10132414]\n",
      "The above two columns you get should be very similar.\n",
      "(Left-Your Numerical Gradient, Right-Analytical Gradient)\n",
      "\n",
      "If your backpropagation implementation is correct, then the relative\n",
      "difference will be small (less than 1e-9).\n",
      "Relative Difference: 1.3383e-12\n"
     ]
    }
   ],
   "source": [
    "# Check gradients.\n",
    "check_cost_function()"
   ]
  },
  {
   "cell_type": "markdown",
   "metadata": {},
   "source": [
    "## Part 4: Collaborative Filtering Cost Regularization\n",
    "\n",
    "Now, you should implement regularization for the cost function for\n",
    "collaborative filtering. You can implement it by adding the cost of\n",
    "regularization to the original cost computation."
   ]
  },
  {
   "cell_type": "code",
   "execution_count": 11,
   "metadata": {},
   "outputs": [
    {
     "name": "stdout",
     "output_type": "stream",
     "text": [
      "Cost at loaded parameters (lambda = 1.5): 31.344\n",
      "(this value should be about 31.34)\n"
     ]
    }
   ],
   "source": [
    "# Evaluate cost function\n",
    "\n",
    "J, _ = cofi_cost_func(np.concatenate((X.reshape(-1), Theta.reshape(-1))), Y, R, num_users, num_movies, num_features, 1.5)\n",
    "print(f'''Cost at loaded parameters (lambda = 1.5): {J:5.3f}\n",
    "(this value should be about 31.34)''')"
   ]
  },
  {
   "cell_type": "markdown",
   "metadata": {},
   "source": [
    "## Part 5: Collaborative Filtering Gradient Regularization\n",
    "\n",
    "Once your cost matches up with ours, you should proceed to implement\n",
    "regularization for the gradient."
   ]
  },
  {
   "cell_type": "code",
   "execution_count": 12,
   "metadata": {},
   "outputs": [
    {
     "name": "stdout",
     "output_type": "stream",
     "text": [
      "[ -4.89820437  13.32287437 -13.23574154  -1.65418322  -1.47605642\n",
      "   0.76727706 -17.17136005   4.41879819  -3.09992773 -12.70301165\n",
      "   1.11250438  -3.92710617   6.19797696  -7.72755254   1.88299585\n",
      "  -3.00999353  10.80148438 -11.45972637   1.3783181   -5.11161406\n",
      "   4.72206754  -3.68592393  -0.3246196   -2.69797665  10.13149997\n",
      "  -6.03066782   3.16670173]\n",
      "[ -4.89820437  13.32287437 -13.23574154  -1.65418322  -1.47605642\n",
      "   0.76727706 -17.17136005   4.41879819  -3.09992773 -12.70301165\n",
      "   1.11250438  -3.92710617   6.19797696  -7.72755254   1.88299585\n",
      "  -3.00999353  10.80148438 -11.45972637   1.3783181   -5.11161406\n",
      "   4.72206754  -3.68592393  -0.3246196   -2.69797665  10.13149997\n",
      "  -6.03066782   3.16670173]\n",
      "The above two columns you get should be very similar.\n",
      "(Left-Your Numerical Gradient, Right-Analytical Gradient)\n",
      "\n",
      "If your backpropagation implementation is correct, then the relative\n",
      "difference will be small (less than 1e-9).\n",
      "Relative Difference: 2.0655e-12\n"
     ]
    }
   ],
   "source": [
    "# Check gradients.\n",
    "check_cost_function(1.5)"
   ]
  },
  {
   "cell_type": "markdown",
   "metadata": {},
   "source": [
    "## Part 6: Entering ratings for a new user\n",
    "\n",
    "Before we will train the collaborative filtering model, we will first\n",
    "add ratings that correspond to a new user that we just observed. This\n",
    "part of the code will also allow you to put in your own ratings for\n",
    "the movies in our dataset!"
   ]
  },
  {
   "cell_type": "code",
   "execution_count": 13,
   "metadata": {},
   "outputs": [],
   "source": [
    "def load_movie_list():\n",
    "    with io.open('movie_ids.txt', mode='r', encoding='utf-8') as f:\n",
    "        return [l.split(' ', maxsplit=1)[1].strip() for l in f.readlines()]"
   ]
  },
  {
   "cell_type": "code",
   "execution_count": 14,
   "metadata": {},
   "outputs": [],
   "source": [
    "movie_list = load_movie_list()"
   ]
  },
  {
   "cell_type": "code",
   "execution_count": 15,
   "metadata": {},
   "outputs": [
    {
     "name": "stdout",
     "output_type": "stream",
     "text": [
      "New user ratings:\n",
      "\n",
      "Rated 4.0 for Toy Story (1995)\n",
      "Rated 3.0 for Twelve Monkeys (1995)\n",
      "Rated 5.0 for Usual Suspects, The (1995)\n",
      "Rated 4.0 for Outbreak (1995)\n",
      "Rated 5.0 for Shawshank Redemption, The (1994)\n",
      "Rated 3.0 for While You Were Sleeping (1995)\n",
      "Rated 5.0 for Forrest Gump (1994)\n",
      "Rated 2.0 for Silence of the Lambs, The (1991)\n",
      "Rated 4.0 for Alien (1979)\n",
      "Rated 5.0 for Die Hard 2 (1990)\n",
      "Rated 5.0 for Sphere (1998)\n"
     ]
    }
   ],
   "source": [
    "# Initializing my ratings.\n",
    "my_ratings = np.zeros((1682, 1))\n",
    "\n",
    "# Check the file movie_idx.txt for id of each movie in our dataset\n",
    "# For example, Toy Story (1995) has ID 1, so to rate it \"4\", you can set\n",
    "my_ratings[0] = 4\n",
    "\n",
    "# Or suppose did not enjoy Silence of the Lambs (1991), you can set\n",
    "my_ratings[97] = 2\n",
    "\n",
    "# We have selected a few movies we liked / did not like and the ratings we gave are as follows:\n",
    "my_ratings[6] = 3\n",
    "my_ratings[11] = 5\n",
    "my_ratings[53] = 4\n",
    "my_ratings[63] = 5\n",
    "my_ratings[65] = 3\n",
    "my_ratings[68] = 5\n",
    "my_ratings[182] = 4\n",
    "my_ratings[225] = 5\n",
    "my_ratings[354] = 5\n",
    "\n",
    "print('New user ratings:\\n')\n",
    "for i in range(my_ratings.size):\n",
    "    if my_ratings[i] > 0:\n",
    "        print(f'Rated {my_ratings[i][0]} for {movie_list[i]}')"
   ]
  },
  {
   "cell_type": "markdown",
   "metadata": {},
   "source": [
    "# Part 7: Learning Movie Ratings\n",
    "\n",
    "Now, you will train the collaborative filtering model on a movie\n",
    "rating dataset of 1682 movies and 943 users."
   ]
  },
  {
   "cell_type": "code",
   "execution_count": 16,
   "metadata": {},
   "outputs": [],
   "source": [
    "def normalize_ratings(Y, R):\n",
    "    '''Normalize Y so that each movie has a rating of 0 on average, and returns the mean rating in Y_mean.'''\n",
    "\n",
    "    m, n = Y.shape\n",
    "    Y_mean = np.zeros((m, 1))\n",
    "    Y_norm = np.zeros_like(Y)\n",
    "\n",
    "    for i in range(m):\n",
    "        idx = np.where(R[i, :] == 1)[0]\n",
    "        Y_mean[i] = np.mean(Y[i, idx])\n",
    "        Y_norm[i, idx] = Y[i, idx] - Y_mean[i]\n",
    "\n",
    "    return Y_norm, Y_mean"
   ]
  },
  {
   "cell_type": "code",
   "execution_count": 17,
   "metadata": {},
   "outputs": [],
   "source": [
    "data = loadmat('ex8_movies.mat')\n",
    "Y = data['Y']\n",
    "R = data['R']"
   ]
  },
  {
   "cell_type": "code",
   "execution_count": 18,
   "metadata": {},
   "outputs": [],
   "source": [
    "Y = np.hstack((my_ratings, Y))\n",
    "R = np.hstack((my_ratings != 0, R))"
   ]
  },
  {
   "cell_type": "code",
   "execution_count": 19,
   "metadata": {},
   "outputs": [],
   "source": [
    "# Normalize ratings.\n",
    "\n",
    "Y_norm, Y_mean = normalize_ratings(Y, R)"
   ]
  },
  {
   "cell_type": "code",
   "execution_count": 20,
   "metadata": {},
   "outputs": [],
   "source": [
    "# Useful values.\n",
    "num_movies, num_users = Y.shape\n",
    "num_features = 10\n",
    "\n",
    "# Set initial parameters\n",
    "X = np.random.randn(num_movies, num_features)\n",
    "Theta = np.random.randn(num_users, num_features)\n",
    "initial_parameters = np.concatenate((X.reshape(-1), Theta.reshape(-1)))\n",
    "\n",
    "# Set regularization\n",
    "lambda_ = 10"
   ]
  },
  {
   "cell_type": "code",
   "execution_count": 21,
   "metadata": {},
   "outputs": [],
   "source": [
    "theta = minimize(lambda t: cofi_cost_func(t, Y, R, num_users, num_movies, num_features, lambda_), initial_parameters, method='CG', jac=True, options={'maxiter': 100}).x"
   ]
  },
  {
   "cell_type": "code",
   "execution_count": 22,
   "metadata": {},
   "outputs": [],
   "source": [
    "X = theta[:(num_movies * num_features)].reshape((num_movies, num_features))\n",
    "Theta = theta[(num_movies * num_features):].reshape((num_users, num_features))"
   ]
  },
  {
   "cell_type": "markdown",
   "metadata": {},
   "source": [
    "## Part 8: Recommendation for you\n",
    "\n",
    "After training the model, you can now make recommendations by\n",
    "computing the predictions matrix."
   ]
  },
  {
   "cell_type": "code",
   "execution_count": 23,
   "metadata": {},
   "outputs": [],
   "source": [
    "p = np.dot(X, Theta.T)\n",
    "my_predictions = p[:, 0] + Y_mean[:, 0]"
   ]
  },
  {
   "cell_type": "code",
   "execution_count": 24,
   "metadata": {},
   "outputs": [
    {
     "name": "stdout",
     "output_type": "stream",
     "text": [
      "Top recommendations for you:\n",
      "\n",
      "Predicting rating 8.55 for movie Star Wars (1977)\n",
      "Predicting rating 8.45 for movie Titanic (1997)\n",
      "Predicting rating 8.41 for movie Shawshank Redemption, The (1994)\n",
      "Predicting rating 8.27 for movie Raiders of the Lost Ark (1981)\n",
      "Predicting rating 8.26 for movie Schindler's List (1993)\n",
      "Predicting rating 8.11 for movie Good Will Hunting (1997)\n",
      "Predicting rating 8.11 for movie Empire Strikes Back, The (1980)\n",
      "Predicting rating 8.10 for movie Usual Suspects, The (1995)\n",
      "Predicting rating 8.09 for movie Braveheart (1995)\n",
      "Predicting rating 8.06 for movie Godfather, The (1972)\n"
     ]
    }
   ],
   "source": [
    "ix = np.argsort(my_predictions)[::-1]\n",
    "print('Top recommendations for you:\\n')\n",
    "for i in range(10):\n",
    "    j = ix[i]\n",
    "    print(f'Predicting rating {my_predictions[j]:4.2f} for movie {movie_list[j]}')"
   ]
  },
  {
   "cell_type": "code",
   "execution_count": 25,
   "metadata": {},
   "outputs": [
    {
     "name": "stdout",
     "output_type": "stream",
     "text": [
      "Original ratings provides:\n",
      "\n",
      "Rated 4.0 for Toy Story (1995)\n",
      "Rated 3.0 for Twelve Monkeys (1995)\n",
      "Rated 5.0 for Usual Suspects, The (1995)\n",
      "Rated 4.0 for Outbreak (1995)\n",
      "Rated 5.0 for Shawshank Redemption, The (1994)\n",
      "Rated 3.0 for While You Were Sleeping (1995)\n",
      "Rated 5.0 for Forrest Gump (1994)\n",
      "Rated 2.0 for Silence of the Lambs, The (1991)\n",
      "Rated 4.0 for Alien (1979)\n",
      "Rated 5.0 for Die Hard 2 (1990)\n",
      "Rated 5.0 for Sphere (1998)\n"
     ]
    }
   ],
   "source": [
    "print('Original ratings provides:\\n')\n",
    "for i in range(my_ratings.size):\n",
    "    if my_ratings[i] > 0:\n",
    "        print(f'Rated {my_ratings[i][0]} for {movie_list[i]}')"
   ]
  }
 ],
 "metadata": {
  "kernelspec": {
   "display_name": "Python 3",
   "language": "python",
   "name": "python3"
  },
  "language_info": {
   "codemirror_mode": {
    "name": "ipython",
    "version": 3
   },
   "file_extension": ".py",
   "mimetype": "text/x-python",
   "name": "python",
   "nbconvert_exporter": "python",
   "pygments_lexer": "ipython3",
   "version": "3.7.2"
  }
 },
 "nbformat": 4,
 "nbformat_minor": 2
}
