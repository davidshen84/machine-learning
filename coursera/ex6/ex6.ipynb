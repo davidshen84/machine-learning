{
 "cells": [
  {
   "cell_type": "markdown",
   "metadata": {},
   "source": [
    "# Exercise 6 | Support Vector Machines"
   ]
  },
  {
   "cell_type": "code",
   "execution_count": null,
   "metadata": {
    "collapsed": true
   },
   "outputs": [],
   "source": [
    "%matplotlib inline\n",
    "\n",
    "import numpy as np\n",
    "import pandas as pd\n",
    "\n",
    "from matplotlib import pyplot as plt\n",
    "from scipy.io import loadmat\n",
    "from scipy.optimize import minimize\n",
    "from sklearn import preprocessing\n",
    "from sklearn import svm"
   ]
  },
  {
   "cell_type": "markdown",
   "metadata": {},
   "source": [
    "*\n",
    "The code below tries best to replicate the coding paradigm from Andrew Ng's course. Some of the coding paradiam is not the best practice for scikit-learn library.\n",
    "*\n",
    "\n",
    "*\n",
    "E.g.: When using SVM, instead of defining your own gaussian kernel, the default 'rbf' kernel defined by scikit-learn library is a better choice.\n",
    "*\n",
    "\n",
    "*\n",
    "To evaluate the performance, the `SVC.score` function is better than computing the `mean` by hand.\n",
    "*"
   ]
  },
  {
   "cell_type": "markdown",
   "metadata": {},
   "source": [
    "## Part 1: Loading and Visualizing Data\n",
    "\n",
    "We start the exercise by first loading and visualizing the\n",
    "dataset. The following code will load the dataset into your\n",
    "environment and plot the data."
   ]
  },
  {
   "cell_type": "code",
   "execution_count": null,
   "metadata": {
    "collapsed": true
   },
   "outputs": [],
   "source": [
    "def plot_data(X, y):\n",
    "    plt.figure(figsize=(10, 6))\n",
    "    pos = np.where(y == 1)\n",
    "    neg = np.where(y == 0)\n",
    "    plt.plot(X[pos, 0], X[pos, 1], 'k+', linewidth=1, markersize=7);\n",
    "    plt.plot(X[neg, 0], X[neg, 1], 'ko', markerfacecolor='y', markersize=7);"
   ]
  },
  {
   "cell_type": "code",
   "execution_count": null,
   "metadata": {},
   "outputs": [],
   "source": [
    "mat = loadmat('ex6data1.mat')\n",
    "X = mat['X']\n",
    "y = mat['y']\n",
    "\n",
    "plot_data(X, y)"
   ]
  },
  {
   "cell_type": "markdown",
   "metadata": {},
   "source": [
    "# Part 2: Training Linear SVM\n",
    "\n",
    "The following code will train a linear SVM on the dataset and plot the\n",
    "decision boundary learned."
   ]
  },
  {
   "cell_type": "code",
   "execution_count": null,
   "metadata": {
    "collapsed": true
   },
   "outputs": [],
   "source": [
    "def visualize_boundary_linear(X, y, model):\n",
    "    w = model.coef_.flatten()\n",
    "    b = model.intercept_\n",
    "    X_min = X.min(axis=0)\n",
    "    X_max = X.max(axis=0)\n",
    "    xp = np.linspace(X_min[0], X_max[0], 100)\n",
    "    yp = - (w[0] * xp + b) / w[1]\n",
    "    plot_data(X, y)\n",
    "    plt.plot(xp, yp, '-b');"
   ]
  },
  {
   "cell_type": "code",
   "execution_count": null,
   "metadata": {},
   "outputs": [],
   "source": [
    "# You should try to change the C value below and see how the decision\n",
    "# boundary varies (e.g., try C = 1000)\n",
    "classifier = svm.LinearSVC(C=1)\n",
    "model = classifier.fit(X, y.flatten())\n",
    "visualize_boundary_linear(X, y, model)"
   ]
  },
  {
   "cell_type": "markdown",
   "metadata": {},
   "source": [
    "## Part 3: Implementing Gaussian Kernel"
   ]
  },
  {
   "cell_type": "code",
   "execution_count": null,
   "metadata": {
    "collapsed": true
   },
   "outputs": [],
   "source": [
    "def gaussian_kernel(x1, x2, sigma):\n",
    "    \"\"\"returns a radial basis function kernel between x1 and x2\"\"\"\n",
    "    \n",
    "    x1 = x1.flatten()\n",
    "    x2 = x2.flatten()\n",
    "    \n",
    "    return np.exp(- np.power(x1 - x2, 2).sum() / (2.0 * sigma ** 2))"
   ]
  },
  {
   "cell_type": "code",
   "execution_count": null,
   "metadata": {},
   "outputs": [],
   "source": [
    "x1 = np.array([1, 2, 1])\n",
    "x2 = np.array([0, 4, -1])\n",
    "sigma = 2\n",
    "sim = gaussian_kernel(x1, x2, sigma)\n",
    "\n",
    "print(f'''Gaussian Kernel between x1 = [1; 2; 1], x2 = [0; 4; -1], sigma = 2:\n",
    "\\t{sim}\n",
    "(this value should be about 0.324652)''')"
   ]
  },
  {
   "cell_type": "markdown",
   "metadata": {},
   "source": [
    "## Part 4: Visualizing Dataset 2"
   ]
  },
  {
   "cell_type": "code",
   "execution_count": null,
   "metadata": {},
   "outputs": [],
   "source": [
    "mat = loadmat('ex6data2.mat')\n",
    "X = mat['X']\n",
    "y = mat['y']\n",
    "\n",
    "plot_data(X, y)"
   ]
  },
  {
   "cell_type": "markdown",
   "metadata": {},
   "source": [
    "## Part 5: Training SVM with RBF Kernel (Dataset 2)\n",
    "\n",
    "After you have implemented the kernel, we can now use it to train the\n",
    "SVM classifier."
   ]
  },
  {
   "cell_type": "code",
   "execution_count": null,
   "metadata": {
    "collapsed": true
   },
   "outputs": [],
   "source": [
    "def visualize_boundary(X, y, model):\n",
    "    plot_data(X, y)\n",
    "    X_min = X.min(axis=0)\n",
    "    X_max = X.max(axis=0)\n",
    "\n",
    "    x1plot = np.linspace(X_min[0], X_max[0], 100)\n",
    "    x2plot = np.linspace(X_min[1], X_max[1], 100)\n",
    "    X1, X2 = np.meshgrid(x1plot, x2plot)\n",
    "    vals = model.predict(np.c_[X1.flat, X2.flat]).reshape(X1.shape)\n",
    "\n",
    "    plt.contour(X1, X2, vals, [0], linecolor='blue', linewidth=3)"
   ]
  },
  {
   "cell_type": "code",
   "execution_count": null,
   "metadata": {},
   "outputs": [],
   "source": [
    "%%time\n",
    "\n",
    "C = 1\n",
    "sigma = 0.05\n",
    "gamma = np.power(sigma, -2)\n",
    "\n",
    "def gaussian_matrix(X1, X2, sigma):\n",
    "    m = np.zeros((X1.shape[0], X2.shape[0]))\n",
    "    for i in range(X1.shape[0]):\n",
    "        for j in range(X2.shape[0]):\n",
    "            m[i, j] = gaussian_kernel(X1[i], X2[j], sigma)\n",
    "\n",
    "    return m\n",
    "\n",
    "model = svm.SVC(C=C, kernel=lambda X1, X2: gaussian_matrix(X1, X2, sigma)).fit(X, y.flatten())"
   ]
  },
  {
   "cell_type": "code",
   "execution_count": null,
   "metadata": {},
   "outputs": [],
   "source": [
    "%%time\n",
    "\n",
    "visualize_boundary(X, y, model)"
   ]
  },
  {
   "cell_type": "markdown",
   "metadata": {},
   "source": [
    "## Part 6: Visualizing Dataset 3"
   ]
  },
  {
   "cell_type": "code",
   "execution_count": null,
   "metadata": {},
   "outputs": [],
   "source": [
    "mat = loadmat('ex6data3.mat')\n",
    "X = mat['X']\n",
    "y = mat['y']\n",
    "Xval = mat['Xval']\n",
    "yval = mat['yval']\n",
    "\n",
    "plot_data(X, y)"
   ]
  },
  {
   "cell_type": "markdown",
   "metadata": {},
   "source": [
    "## Part 7: Training SVM with RBF Kernel (Dataset 3)\n",
    "\n",
    "This a different dataset that you can use to experiment with. Try\n",
    "different values of C and sigma here."
   ]
  },
  {
   "cell_type": "code",
   "execution_count": null,
   "metadata": {},
   "outputs": [],
   "source": [
    "c_options = [0.01, 0.1, 1, 10, 0.03, 0.3, 3, 30, 300]\n",
    "# sigma_options = c_options\n",
    "min_mean = 10 ** 10  # very large value\n",
    "\n",
    "for c, s in ((c, s) for c in c_options\n",
    "             for s in c_options):\n",
    "    model = svm.SVC(C=c, kernel=lambda X1, X2: gaussian_matrix(X1, X2, s)).fit(X, y.ravel())\n",
    "    predictions = model.predict(Xval)\n",
    "    temp_mean = np.mean(predictions != yval.ravel())\n",
    "    if temp_mean < min_mean:\n",
    "        C = c\n",
    "        sigma = s\n",
    "        min_mean = temp_mean\n",
    "\n",
    "print(f'C = {C}, sigma = {sigma}, mean = {min_mean}')\n",
    "model = svm.SVC(C=C, kernel=lambda X1, X2: gaussian_matrix(X1, X2, sigma)).fit(X, y.ravel())\n",
    "visualize_boundary(X, y, model)"
   ]
  }
 ],
 "metadata": {
  "kernelspec": {
   "display_name": "Python 3",
   "language": "python",
   "name": "python3"
  },
  "language_info": {
   "codemirror_mode": {
    "name": "ipython",
    "version": 3
   },
   "file_extension": ".py",
   "mimetype": "text/x-python",
   "name": "python",
   "nbconvert_exporter": "python",
   "pygments_lexer": "ipython3",
   "version": "3.6.1"
  },
  "widgets": {
   "application/vnd.jupyter.widget-state+json": {
    "state": {},
    "version_major": 1,
    "version_minor": 0
   }
  }
 },
 "nbformat": 4,
 "nbformat_minor": 2
}
