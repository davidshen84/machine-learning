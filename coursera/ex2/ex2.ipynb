{
 "cells": [
  {
   "cell_type": "markdown",
   "metadata": {},
   "source": [
    "# Exercise 2: Logistic Regression"
   ]
  },
  {
   "cell_type": "code",
   "execution_count": null,
   "metadata": {
    "collapsed": true
   },
   "outputs": [],
   "source": [
    "%matplotlib inline\n",
    "\n",
    "from numpy import (eye, loadtxt, hstack, zeros, ones, dot, transpose, array,\n",
    "                   meshgrid, float64, log, finfo, exp, mean, double)\n",
    "from matplotlib import cm\n",
    "from matplotlib.pyplot import plot, ylabel, xlabel, figure, subplots, legend, axis\n",
    "from scipy.optimize import minimize"
   ]
  },
  {
   "cell_type": "markdown",
   "metadata": {},
   "source": [
    "## Load Data"
   ]
  },
  {
   "cell_type": "code",
   "execution_count": null,
   "metadata": {
    "collapsed": true
   },
   "outputs": [],
   "source": [
    "data = loadtxt('ex2data1.txt', dtype=float64, delimiter=',')\n",
    "X, y = data[:, :2], data[:, -1].reshape(-1, 1)"
   ]
  },
  {
   "cell_type": "markdown",
   "metadata": {},
   "source": [
    "## Part 1: Plotting\n",
    "\n",
    "We start the exercise by first plotting the data to understand the the problem we are working with."
   ]
  },
  {
   "cell_type": "code",
   "execution_count": null,
   "metadata": {
    "collapsed": true
   },
   "outputs": [],
   "source": [
    "def plot2_data(X, y, data_labels, axis_labels):\n",
    "    pos = y[:, 0] == 1\n",
    "    neg = y[:, 0] == 0\n",
    "\n",
    "    plot(X[pos, 0], X[pos, 1], 'k+', label=data_labels[0],\n",
    "       markerfacecolor='b', markersize=7)\n",
    "    plot(X[neg, 0], X[neg, 1], 'ko', label=data_labels[1],\n",
    "       markerfacecolor='Y', markersize=7)\n",
    "\n",
    "    # Put some labels\n",
    "    if axis_labels and len(axis_labels) > 1:\n",
    "        xlabel(axis_labels[0])\n",
    "        ylabel(axis_labels[1])"
   ]
  },
  {
   "cell_type": "markdown",
   "metadata": {},
   "source": [
    "Plotting data with `+` indicating (y = 1) examples and `o` indicating (y = 0) examples."
   ]
  },
  {
   "cell_type": "code",
   "execution_count": null,
   "metadata": {},
   "outputs": [],
   "source": [
    "plot2_data(X, y,\n",
    "          ['Admitted', 'Not Admitted'],\n",
    "          ['Exam 1', 'Exam 2'])\n",
    "legend(numpoints=1)"
   ]
  },
  {
   "cell_type": "markdown",
   "metadata": {},
   "source": [
    "# Part 2: Compute Cost and Gradient"
   ]
  },
  {
   "cell_type": "code",
   "execution_count": null,
   "metadata": {
    "collapsed": true
   },
   "outputs": [],
   "source": [
    "eps = finfo(float64).eps\n",
    "# eps = 1e-5\n",
    "\n",
    "def sigmoid(z):\n",
    "    return 1. / (1. + exp(-z))\n",
    "\n",
    "def cost_function(theta, X, y):\n",
    "    \"\"\"cost function\"\"\"\n",
    "\n",
    "    m, n = X.shape\n",
    "    theta = theta.reshape(n, 1)\n",
    "\n",
    "    h_theta = sigmoid(X.dot(theta))\n",
    "    h_theta[h_theta < eps] = eps\n",
    "    h_theta[(1 - eps < h_theta) & (h_theta < 1 + eps)] = 1 - eps\n",
    "    J = (- y.T.dot(log(h_theta)) - (1. - y).T.dot(log(1. - h_theta))) / m\n",
    "    grad = X.T.dot(h_theta - y) / m\n",
    "\n",
    "    return J[0, 0], grad.flatten()"
   ]
  },
  {
   "cell_type": "code",
   "execution_count": null,
   "metadata": {},
   "outputs": [],
   "source": [
    "# Setup the data matrix appropriately, and add ones for the intercept term\n",
    "m, n = X.shape\n",
    "\n",
    "# Initialize fitting parameters\n",
    "initial_theta = zeros((n + 1, 1))\n",
    "\n",
    "\n",
    "# Add intercept term to x and X_test\n",
    "X = hstack((ones((m, 1)), X))\n",
    "\n",
    "# Compute and display initial cost and gradient\n",
    "cost, grad = cost_function(initial_theta, X, y)\n",
    "print(f'''Cost at initial theta (zeros): {cost}\n",
    "Gradient at initial theta (zeros): {grad}''')"
   ]
  },
  {
   "cell_type": "markdown",
   "metadata": {},
   "source": [
    "# Part 3: Optimizing using *minimize*"
   ]
  },
  {
   "cell_type": "code",
   "execution_count": null,
   "metadata": {
    "collapsed": true
   },
   "outputs": [],
   "source": [
    "def plot_decision_boundary(theta, X, y, *args):\n",
    "\n",
    "    # Plot Data\n",
    "    plot2_data(X[:, 1:3], y, *args)\n",
    "\n",
    "    n = X.shape[1]\n",
    "\n",
    "    if n <= 3:\n",
    "        # Only need 2 points to define a line, so choose two endpoints\n",
    "        plot_x = array([min(X[:, 1]) - 2, max(X[:, 1]) + 2])\n",
    "\n",
    "        # Calculate the decision boundary line\n",
    "        plot_y = (-1 / theta[2]) * (theta[1] * plot_x + theta[0])\n",
    "\n",
    "        # Plot, and adjust axes for better viewing\n",
    "        plot(plot_x, plot_y, label='Decision Boundary')\n",
    "\n",
    "        # Legend, specific for the exercise\n",
    "        axis([30, 100, 30, 100])"
   ]
  },
  {
   "cell_type": "code",
   "execution_count": null,
   "metadata": {},
   "outputs": [],
   "source": [
    "result = minimize(cost_function,\n",
    "                  initial_theta,\n",
    "                  args=(X, y),\n",
    "                  method='BFGS',\n",
    "                  jac=True,\n",
    "                  options=dict(maxiter=400))\n",
    "cost = result.fun\n",
    "theta = result.x\n",
    "\n",
    "print(f'''Cost at theta found by minimize: {cost}\n",
    "theta: {theta}''')\n",
    "\n",
    "plot_decision_boundary(theta, X, y,\n",
    "                       ['Admitted', 'Not Admitted'],\n",
    "                       ['Exam 1', 'Exam 2'])\n",
    "legend(numpoints=1)"
   ]
  },
  {
   "cell_type": "markdown",
   "metadata": {},
   "source": [
    "# Part 4: Predict and Accuracies\n",
    "\n",
    "After learning the parameters, you'll like to use it to predict the\n",
    "outcomes on unseen data. In this part, you will use the logistic\n",
    "regression model to predict the probability that a student with score\n",
    "45 on exam 1 and score 85 on exam 2 will be admitted.\n",
    "\n",
    "Furthermore, you will compute the training and test set accuracies of\n",
    "our model."
   ]
  },
  {
   "cell_type": "code",
   "execution_count": null,
   "metadata": {},
   "outputs": [],
   "source": [
    "prob = sigmoid(array([1, 45, 85]).dot(theta))\n",
    "print(f'''For a student with scores 45 and 85,\n",
    "we predict an admission probability of {prob}''')"
   ]
  },
  {
   "cell_type": "code",
   "execution_count": null,
   "metadata": {},
   "outputs": [],
   "source": [
    "# compute accuracy on our training set\n",
    "\n",
    "def predict(theta, X):\n",
    "    return (sigmoid(X.dot(theta)) >= 0.5).reshape((-1, 1))\n",
    "\n",
    "p = predict(theta, X)\n",
    "print(f'Train Accuracy: { mean(double(p == y)) * 100}%')"
   ]
  }
 ],
 "metadata": {
  "kernelspec": {
   "display_name": "Python 3",
   "language": "python",
   "name": "python3"
  },
  "language_info": {
   "codemirror_mode": {
    "name": "ipython",
    "version": 3
   },
   "file_extension": ".py",
   "mimetype": "text/x-python",
   "name": "python",
   "nbconvert_exporter": "python",
   "pygments_lexer": "ipython3",
   "version": "3.6.1"
  }
 },
 "nbformat": 4,
 "nbformat_minor": 1
}
