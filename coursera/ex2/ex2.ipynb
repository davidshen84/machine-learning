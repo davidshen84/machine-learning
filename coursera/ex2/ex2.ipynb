{
 "cells": [
  {
   "cell_type": "markdown",
   "metadata": {
    "deletable": true,
    "editable": true
   },
   "source": [
    "# Ex2"
   ]
  },
  {
   "cell_type": "code",
   "execution_count": null,
   "metadata": {
    "collapsed": false,
    "deletable": true,
    "editable": true
   },
   "outputs": [],
   "source": [
    "%matplotlib inline\n",
    "\n",
    "from __future__ import print_function\n",
    "\n",
    "from numpy import eye, loadtxt, hstack, zeros, ones, dot, transpose, array, linspace, logspace, \\\n",
    "    meshgrid, float64, log, finfo, exp\n",
    "from matplotlib import cm\n",
    "from matplotlib.pyplot import plot, ylabel, xlabel, figure, subplots, contour, legend, axis, contour\n",
    "from mpl_toolkits.mplot3d import Axes3D\n",
    "from scipy.optimize import minimize"
   ]
  },
  {
   "cell_type": "markdown",
   "metadata": {
    "deletable": true,
    "editable": true
   },
   "source": [
    "# Part 1: Plotting\n",
    "\n",
    "Plotting data with + indicating (y = 1) examples and o indicating (y = 0) examples."
   ]
  },
  {
   "cell_type": "code",
   "execution_count": null,
   "metadata": {
    "collapsed": false,
    "deletable": true,
    "editable": true
   },
   "outputs": [],
   "source": [
    "def plot2_data(X, y, data_labels, axis_labels):\n",
    "    pos = y[:, 0] == 1\n",
    "    neg = y[:, 0] == 0\n",
    "\n",
    "    plot(X[pos, 0], X[pos, 1], 'k+', label=data_labels[0],\n",
    "       markerfacecolor='b', markersize=7)\n",
    "    plot(X[neg, 0], X[neg, 1], 'ko', label=data_labels[1],\n",
    "       markerfacecolor='Y', markersize=7)\n",
    "\n",
    "    # Put some labels\n",
    "    if axis_labels and len(axis_labels) > 1:\n",
    "        xlabel(axis_labels[0])\n",
    "        ylabel(axis_labels[1])\n",
    "\n",
    "data = loadtxt('ex2data1.txt', dtype=float64, delimiter=',')\n",
    "X, y = data[:, :2], data[:, -1].reshape(-1, 1)\n",
    "\n",
    "plot2_data(X, y,\n",
    "          ['Admitted', 'Not Admitted'],\n",
    "          ['Exam 1', 'Exam 2'])\n",
    "legend(numpoints=1)"
   ]
  },
  {
   "cell_type": "markdown",
   "metadata": {
    "deletable": true,
    "editable": true
   },
   "source": [
    "# Part 2: Compute Cost and Gradient"
   ]
  },
  {
   "cell_type": "code",
   "execution_count": null,
   "metadata": {
    "collapsed": true,
    "deletable": true,
    "editable": true
   },
   "outputs": [],
   "source": [
    "eps = finfo(float64).eps\n",
    "eps = 1e-5\n",
    "\n",
    "def sigmoid(z):\n",
    "    return 1. / (1. + exp(-z))\n",
    "\n",
    "def cost_function(theta, X, y):\n",
    "    \"\"\"cost function\"\"\"\n",
    "\n",
    "    m, n = X.shape\n",
    "    theta = theta.reshape(n, 1)\n",
    "\n",
    "    h_theta = sigmoid(X.dot(theta))\n",
    "    h_theta[h_theta < eps] = eps\n",
    "    h_theta[(1 - eps < h_theta) & (h_theta < 1 + eps)] = 1 - eps\n",
    "    J = (- y.T.dot(log(h_theta)) - (1. - y).T.dot(log(1. - h_theta))) / m\n",
    "    grad = X.T.dot(h_theta - y) / m\n",
    "\n",
    "    return J[0, 0], grad.flatten()"
   ]
  },
  {
   "cell_type": "code",
   "execution_count": null,
   "metadata": {
    "collapsed": false,
    "deletable": true,
    "editable": true
   },
   "outputs": [],
   "source": [
    "# Initialize fitting parameters\n",
    "initial_theta = zeros((n + 1, 1))\n",
    "\n",
    "# Setup the data matrix appropriately, and add ones for the intercept term\n",
    "m, n = X.shape\n",
    "\n",
    "# Add intercept term to x and X_test\n",
    "X = hstack((ones((m, 1)), X))\n",
    "\n",
    "# Compute and display initial cost and gradient\n",
    "cost, grad = cost_function(initial_theta, X, y)\n",
    "print('Cost at initial theta (zeros): {}\\nGradient at initial theta (zeros): {}'.format(cost, grad))"
   ]
  },
  {
   "cell_type": "markdown",
   "metadata": {
    "deletable": true,
    "editable": true
   },
   "source": [
    "# Part 3: Optimizing using fminunc"
   ]
  },
  {
   "cell_type": "code",
   "execution_count": null,
   "metadata": {
    "collapsed": true,
    "deletable": true,
    "editable": true
   },
   "outputs": [],
   "source": [
    "def plot_decision_boundary(theta, X, y, *args):\n",
    "\n",
    "    # Plot Data\n",
    "    plot2_data(X[:, 1:3], y, *args)\n",
    "\n",
    "    n = X.shape[1]\n",
    "\n",
    "    if n <= 3:\n",
    "        # Only need 2 points to define a line, so choose two endpoints\n",
    "        plot_x = array([min(X[:, 1]) - 2, max(X[:, 1]) + 2])\n",
    "\n",
    "        # Calculate the decision boundary line\n",
    "        plot_y = (-1 / theta[2]) * (theta[1] * plot_x + theta[0])\n",
    "\n",
    "        # Plot, and adjust axes for better viewing\n",
    "        plot(plot_x, plot_y, label='Decision Boundary')\n",
    "\n",
    "        # Legend, specific for the exercise\n",
    "        axis([30, 100, 30, 100])\n",
    "    else:\n",
    "        # Here is the grid range\n",
    "        u = linspace(-1, 1.5, 50) \n",
    "        v = linspace(-1, 1.5, 50)\n",
    "        size = u.size\n",
    "        z = zeros((size, size))\n",
    "        # Evaluate z = theta*x over the grid\n",
    "        for i in range(size):\n",
    "            for j in range(size):\n",
    "                z[i, j] = map_feature(u[i], v[j]).dot(theta)\n",
    "\n",
    "        z = z.T\n",
    "        contour(u, v, z, [0, 0], linewidth=2, label='Decision Boundary')"
   ]
  },
  {
   "cell_type": "code",
   "execution_count": null,
   "metadata": {
    "collapsed": false,
    "deletable": true,
    "editable": true
   },
   "outputs": [],
   "source": [
    "result = minimize(cost_function,\n",
    "                  initial_theta,\n",
    "                  args=(X, y),\n",
    "                  method='BFGS',\n",
    "                  jac=True,\n",
    "                  options=dict(maxiter=400))\n",
    "cost = result.fun\n",
    "theta = result.x\n",
    "\n",
    "print('''Cost at theta found by minimize: {}\n",
    "theta: {}'''.format(cost, theta))\n",
    "\n",
    "plot_decision_boundary(theta, X, y,\n",
    "                       ['Admitted', 'Not Admitted'],\n",
    "                       ['Exam 1', 'Exam 2'])\n",
    "legend(numpoints=1)"
   ]
  }
 ],
 "metadata": {
  "kernelspec": {
   "display_name": "Python 3",
   "language": "python",
   "name": "python3"
  },
  "language_info": {
   "codemirror_mode": {
    "name": "ipython",
    "version": 3
   },
   "file_extension": ".py",
   "mimetype": "text/x-python",
   "name": "python",
   "nbconvert_exporter": "python",
   "pygments_lexer": "ipython3",
   "version": "3.6.0"
  }
 },
 "nbformat": 4,
 "nbformat_minor": 0
}
