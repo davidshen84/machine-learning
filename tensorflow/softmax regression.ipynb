{
 "cells": [
  {
   "cell_type": "code",
   "execution_count": 1,
   "metadata": {
    "collapsed": false
   },
   "outputs": [],
   "source": [
    "%matplotlib inline\n",
    "\n",
    "import tensorflow as tf\n",
    "from tensorflow.examples.tutorials.mnist import input_data\n",
    "import matplotlib.pyplot as plt\n",
    "import numpy as np"
   ]
  },
  {
   "cell_type": "code",
   "execution_count": 2,
   "metadata": {
    "collapsed": false
   },
   "outputs": [
    {
     "name": "stdout",
     "output_type": "stream",
     "text": [
      "Extracting data/train-images-idx3-ubyte.gz\n",
      "Extracting data/train-labels-idx1-ubyte.gz\n",
      "Extracting data/t10k-images-idx3-ubyte.gz\n",
      "Extracting data/t10k-labels-idx1-ubyte.gz\n"
     ]
    }
   ],
   "source": [
    "mnist = input_data.read_data_sets('data', one_hot=True)"
   ]
  },
  {
   "cell_type": "code",
   "execution_count": 3,
   "metadata": {
    "collapsed": false
   },
   "outputs": [
    {
     "data": {
      "text/plain": [
       "<matplotlib.image.AxesImage at 0x7f28c066a358>"
      ]
     },
     "execution_count": 3,
     "metadata": {},
     "output_type": "execute_result"
    },
    {
     "data": {
      "image/png": "[encoded data removed]",
      "text/plain": [
       "<matplotlib.figure.Figure at 0x7f28d8710240>"
      ]
     },
     "metadata": {},
     "output_type": "display_data"
    }
   ],
   "source": [
    "# visualize image data\n",
    "h = mnist.train.images[0]\n",
    "\n",
    "img = h.reshape((28, 28))\n",
    "plt.imshow(img, cmap='gray')"
   ]
  },
  {
   "cell_type": "code",
   "execution_count": 4,
   "metadata": {
    "collapsed": false
   },
   "outputs": [
    {
     "data": {
      "text/plain": [
       "7"
      ]
     },
     "execution_count": 4,
     "metadata": {},
     "output_type": "execute_result"
    }
   ],
   "source": [
    "np.argmax(mnist.train.labels[0], 0)"
   ]
  },
  {
   "cell_type": "code",
   "execution_count": 8,
   "metadata": {
    "collapsed": false
   },
   "outputs": [],
   "source": [
    "# define model\n",
    "\n",
    "x = tf.placeholder(tf.float32, [None, 784])\n",
    "W = tf.Variable(tf.zeros([784, 10]))\n",
    "b = tf.Variable(tf.zeros([10]))\n",
    "y = tf.nn.softmax(tf.matmul(x, W) + b)"
   ]
  },
  {
   "cell_type": "code",
   "execution_count": 9,
   "metadata": {
    "collapsed": false,
    "scrolled": false
   },
   "outputs": [
    {
     "name": "stdout",
     "output_type": "stream",
     "text": [
      "step 0, training accuracy 0.47999998927116394\n",
      "step 100, training accuracy 0.9599999785423279\n",
      "step 200, training accuracy 0.9700000286102295\n",
      "step 300, training accuracy 0.9800000190734863\n",
      "step 400, training accuracy 0.9100000262260437\n",
      "step 500, training accuracy 0.9599999785423279\n",
      "step 600, training accuracy 0.9399999976158142\n",
      "step 700, training accuracy 0.9599999785423279\n",
      "step 800, training accuracy 0.949999988079071\n",
      "step 900, training accuracy 0.9599999785423279\n",
      "step 1000, training accuracy 0.949999988079071\n",
      "step 1100, training accuracy 0.9399999976158142\n",
      "step 1200, training accuracy 0.9599999785423279\n",
      "step 1300, training accuracy 0.9399999976158142\n",
      "step 1400, training accuracy 0.9700000286102295\n",
      "step 1500, training accuracy 0.9399999976158142\n",
      "step 1600, training accuracy 0.9399999976158142\n",
      "step 1700, training accuracy 0.9399999976158142\n",
      "step 1800, training accuracy 0.9200000166893005\n",
      "step 1900, training accuracy 0.9200000166893005\n",
      "step 2000, training accuracy 0.9800000190734863\n",
      "step 2100, training accuracy 0.9700000286102295\n",
      "step 2200, training accuracy 0.9100000262260437\n",
      "step 2300, training accuracy 0.9700000286102295\n",
      "step 2400, training accuracy 0.9300000071525574\n",
      "step 2500, training accuracy 0.9599999785423279\n",
      "step 2600, training accuracy 0.9800000190734863\n",
      "step 2700, training accuracy 0.9399999976158142\n",
      "step 2800, training accuracy 0.9599999785423279\n",
      "step 2900, training accuracy 0.9599999785423279\n",
      "step 3000, training accuracy 0.9599999785423279\n",
      "step 3100, training accuracy 0.949999988079071\n",
      "step 3200, training accuracy 0.949999988079071\n",
      "step 3300, training accuracy 0.9700000286102295\n",
      "step 3400, training accuracy 0.8999999761581421\n",
      "step 3500, training accuracy 0.9900000095367432\n",
      "step 3600, training accuracy 0.949999988079071\n",
      "step 3700, training accuracy 0.9300000071525574\n",
      "step 3800, training accuracy 0.9399999976158142\n",
      "step 3900, training accuracy 0.9700000286102295\n",
      "step 4000, training accuracy 0.9700000286102295\n",
      "step 4100, training accuracy 0.9700000286102295\n",
      "step 4200, training accuracy 0.9700000286102295\n",
      "step 4300, training accuracy 0.9300000071525574\n",
      "step 4400, training accuracy 0.9700000286102295\n",
      "step 4500, training accuracy 0.9599999785423279\n",
      "step 4600, training accuracy 0.9700000286102295\n",
      "step 4700, training accuracy 0.9700000286102295\n",
      "step 4800, training accuracy 0.9800000190734863\n",
      "step 4900, training accuracy 0.8899999856948853\n",
      "step 5000, training accuracy 0.9300000071525574\n",
      "step 5100, training accuracy 0.9800000190734863\n",
      "step 5200, training accuracy 0.9700000286102295\n",
      "step 5300, training accuracy 0.9399999976158142\n",
      "step 5400, training accuracy 0.9200000166893005\n",
      "step 5500, training accuracy 0.9700000286102295\n",
      "step 5600, training accuracy 0.9800000190734863\n",
      "step 5700, training accuracy 0.9399999976158142\n",
      "step 5800, training accuracy 0.9700000286102295\n",
      "step 5900, training accuracy 0.949999988079071\n",
      "step 6000, training accuracy 0.9100000262260437\n",
      "step 6100, training accuracy 0.949999988079071\n",
      "step 6200, training accuracy 0.9599999785423279\n",
      "step 6300, training accuracy 0.9800000190734863\n",
      "step 6400, training accuracy 0.949999988079071\n",
      "step 6500, training accuracy 0.9300000071525574\n",
      "step 6600, training accuracy 0.9900000095367432\n",
      "step 6700, training accuracy 0.9800000190734863\n",
      "step 6800, training accuracy 0.9399999976158142\n",
      "step 6900, training accuracy 0.949999988079071\n",
      "step 7000, training accuracy 0.9300000071525574\n",
      "step 7100, training accuracy 0.949999988079071\n",
      "step 7200, training accuracy 0.949999988079071\n",
      "step 7300, training accuracy 0.9800000190734863\n",
      "step 7400, training accuracy 0.9200000166893005\n",
      "step 7500, training accuracy 0.9599999785423279\n",
      "step 7600, training accuracy 0.9599999785423279\n",
      "step 7700, training accuracy 0.949999988079071\n",
      "step 7800, training accuracy 0.9300000071525574\n",
      "step 7900, training accuracy 0.949999988079071\n",
      "step 8000, training accuracy 0.9700000286102295\n",
      "step 8100, training accuracy 0.9599999785423279\n",
      "step 8200, training accuracy 0.8999999761581421\n",
      "step 8300, training accuracy 0.9800000190734863\n",
      "step 8400, training accuracy 0.9700000286102295\n",
      "step 8500, training accuracy 0.9900000095367432\n",
      "step 8600, training accuracy 0.9300000071525574\n",
      "step 8700, training accuracy 0.949999988079071\n",
      "step 8800, training accuracy 0.9599999785423279\n",
      "step 8900, training accuracy 0.9399999976158142\n",
      "step 9000, training accuracy 0.9700000286102295\n",
      "step 9100, training accuracy 0.9300000071525574\n",
      "step 9200, training accuracy 0.9399999976158142\n",
      "step 9300, training accuracy 0.9700000286102295\n",
      "step 9400, training accuracy 0.949999988079071\n",
      "step 9500, training accuracy 0.949999988079071\n",
      "step 9600, training accuracy 0.9900000095367432\n",
      "step 9700, training accuracy 0.9700000286102295\n",
      "step 9800, training accuracy 0.9300000071525574\n",
      "step 9900, training accuracy 0.9399999976158142\n"
     ]
    }
   ],
   "source": [
    "# training\n",
    "\n",
    "y_ = tf.placeholder(tf.float32, [None, 10])\n",
    "cross_entropy = -tf.reduce_sum(y_ * tf.log(y))\n",
    "train_step = tf.train.GradientDescentOptimizer(0.01).minimize(cross_entropy)\n",
    "correct_prediction = tf.equal(tf.argmax(y, 1), tf.argmax(y_, 1))\n",
    "accuracy = tf.reduce_mean(tf.cast(correct_prediction, 'float'))\n",
    "\n",
    "init = tf.initialize_all_variables()\n",
    "\n",
    "session = tf.Session()\n",
    "session.run(init)\n",
    "\n",
    "for i in range(10000):\n",
    "    batch_xs, batch_ys = mnist.train.next_batch(100)\n",
    "    session.run(train_step, feed_dict={x: batch_xs, y_: batch_ys})\n",
    "    \n",
    "    if i % 100 == 0:\n",
    "        train_accuracy = accuracy.eval(session=session, feed_dict={x: batch_xs, y_: batch_ys})\n",
    "        print('step {0}, training accuracy {1}'.format(i, train_accuracy))\n",
    "    "
   ]
  },
  {
   "cell_type": "code",
   "execution_count": 10,
   "metadata": {
    "collapsed": false
   },
   "outputs": [
    {
     "name": "stdout",
     "output_type": "stream",
     "text": [
      "0.9093\n"
     ]
    }
   ],
   "source": [
    "print(session.run(accuracy, feed_dict={x: mnist.test.images, y_: mnist.test.labels}))"
   ]
  },
  {
   "cell_type": "code",
   "execution_count": null,
   "metadata": {
    "collapsed": false
   },
   "outputs": [],
   "source": [
    "W_out = W.eval(session=session)"
   ]
  },
  {
   "cell_type": "code",
   "execution_count": null,
   "metadata": {
    "collapsed": false
   },
   "outputs": [],
   "source": [
    "img = W_out.transpose()[0].reshape(28, 28)\n",
    "plt.imshow(img, cmap='gray')"
   ]
  },
  {
   "cell_type": "code",
   "execution_count": null,
   "metadata": {
    "collapsed": false
   },
   "outputs": [],
   "source": [
    "y_out = session.run(y, feed_dict={x: mnist.test.images})\n",
    "y_out.shape"
   ]
  },
  {
   "cell_type": "code",
   "execution_count": null,
   "metadata": {
    "collapsed": true
   },
   "outputs": [],
   "source": []
  }
 ],
 "metadata": {
  "kernelspec": {
   "display_name": "Python 3",
   "language": "python",
   "name": "python3"
  },
  "language_info": {
   "codemirror_mode": {
    "name": "ipython",
    "version": 3
   },
   "file_extension": ".py",
   "mimetype": "text/x-python",
   "name": "python",
   "nbconvert_exporter": "python",
   "pygments_lexer": "ipython3",
   "version": "3.4.3+"
  }
 },
 "nbformat": 4,
 "nbformat_minor": 0
}
