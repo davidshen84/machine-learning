{
 "cells": [
  {
   "cell_type": "code",
   "execution_count": 1,
   "metadata": {
    "collapsed": false
   },
   "outputs": [],
   "source": [
    "%matplotlib inline\n",
    "\n",
    "import numpy as np\n",
    "from tensorflow.examples.tutorials.mnist import input_data\n",
    "import tensorflow as tf"
   ]
  },
  {
   "cell_type": "code",
   "execution_count": 3,
   "metadata": {
    "collapsed": false
   },
   "outputs": [
    {
     "name": "stdout",
     "output_type": "stream",
     "text": [
      "Extracting data/train-images-idx3-ubyte.gz\n",
      "Extracting data/train-labels-idx1-ubyte.gz\n",
      "Extracting data/t10k-images-idx3-ubyte.gz\n",
      "Extracting data/t10k-labels-idx1-ubyte.gz\n"
     ]
    }
   ],
   "source": [
    "mnist = input_data.read_data_sets('data', one_hot=True)"
   ]
  },
  {
   "cell_type": "code",
   "execution_count": 36,
   "metadata": {
    "collapsed": false
   },
   "outputs": [],
   "source": [
    "# model 1 hiden layer\n",
    "\n",
    "x = tf.placeholder(tf.float32, shape=[None, 784])\n",
    "y = tf.placeholder(tf.float32, shape=[None, 10])\n",
    "\n",
    "W_h1 = tf.Variable(tf.truncated_normal([784, 512]))\n",
    "#b1 = tf.Variable(tf.random_normal([512]))\n",
    "h1 = tf.nn.sigmoid(tf.matmul(x, W_h1))\n",
    "\n",
    "# W_h2 = tf.Variable(tf.random_normal([256, 10]))\n",
    "# h2 = tf.sigmoid(tf.matmul(h1, W_h2))\n",
    "\n",
    "W_out = tf.Variable(tf.truncated_normal([512, 10]))\n",
    "#b_out = tf.Variable(tf.random_normal([10]))\n",
    "y_ = tf.nn.sigmoid(tf.matmul(h1, W_out))\n",
    "\n",
    "#cross_entropy = tf.nn.sigmoid_cross_entropy_with_logits(y_, y)\n",
    "cross_entropy = tf.reduce_sum(- y * tf.log(tf.clip_by_value(y_, 1e-10, 1.0))\\\n",
    "                              - (1 - y) * tf.log(tf.clip_by_value(1 - y_, 1e-10, 1.0)), 1)\n",
    "loss = tf.reduce_mean(cross_entropy)\n",
    "train_step = tf.train.GradientDescentOptimizer(0.05).minimize(loss)\n",
    "\n",
    "correct_prediction = tf.equal(tf.argmax(y, 1), tf.argmax(y_, 1))\n",
    "accuracy = tf.reduce_mean(tf.cast(correct_prediction, tf.float32))"
   ]
  },
  {
   "cell_type": "code",
   "execution_count": 37,
   "metadata": {
    "collapsed": false
   },
   "outputs": [
    {
     "name": "stdout",
     "output_type": "stream",
     "text": [
      "step 0, training accuracy 17.00, loss 41.139034271240234\n",
      "step 100, training accuracy 34.00, loss 6.858117580413818\n",
      "step 200, training accuracy 60.00, loss 4.55703067779541\n",
      "step 300, training accuracy 70.00, loss 2.9683637619018555\n",
      "step 400, training accuracy 78.00, loss 2.4810266494750977\n",
      "step 500, training accuracy 68.00, loss 3.460874080657959\n",
      "step 600, training accuracy 83.00, loss 1.9278935194015503\n",
      "step 700, training accuracy 80.00, loss 1.7458844184875488\n",
      "step 800, training accuracy 88.00, loss 1.3755064010620117\n",
      "step 900, training accuracy 81.00, loss 1.8783529996871948\n",
      "step 1000, training accuracy 80.00, loss 1.8825184106826782\n",
      "step 1100, training accuracy 76.00, loss 2.259653091430664\n",
      "step 1200, training accuracy 84.00, loss 2.024524450302124\n",
      "step 1300, training accuracy 85.00, loss 1.46427583694458\n",
      "step 1400, training accuracy 74.00, loss 2.662951707839966\n",
      "step 1500, training accuracy 87.00, loss 1.1816061735153198\n",
      "step 1600, training accuracy 87.00, loss 1.1705904006958008\n",
      "step 1700, training accuracy 83.00, loss 1.96905517578125\n",
      "step 1800, training accuracy 86.00, loss 1.6623165607452393\n",
      "step 1900, training accuracy 89.00, loss 1.2059705257415771\n",
      "step 2000, training accuracy 83.00, loss 1.5308465957641602\n",
      "step 2100, training accuracy 84.00, loss 1.4996140003204346\n",
      "step 2200, training accuracy 92.00, loss 0.6837170124053955\n",
      "step 2300, training accuracy 91.00, loss 1.176784873008728\n",
      "step 2400, training accuracy 85.00, loss 1.4681847095489502\n",
      "step 2500, training accuracy 88.00, loss 1.246822476387024\n",
      "step 2600, training accuracy 88.00, loss 1.060598373413086\n",
      "step 2700, training accuracy 92.00, loss 0.9309365749359131\n",
      "step 2800, training accuracy 84.00, loss 1.4903662204742432\n",
      "step 2900, training accuracy 87.00, loss 1.0703192949295044\n",
      "step 3000, training accuracy 83.00, loss 1.801870584487915\n",
      "step 3100, training accuracy 85.00, loss 1.4995465278625488\n",
      "step 3200, training accuracy 87.00, loss 1.179142713546753\n",
      "step 3300, training accuracy 85.00, loss 1.3697155714035034\n",
      "step 3400, training accuracy 95.00, loss 0.7350724935531616\n",
      "step 3500, training accuracy 94.00, loss 1.0308223962783813\n",
      "step 3600, training accuracy 94.00, loss 0.7476858496665955\n",
      "step 3700, training accuracy 87.00, loss 1.5306637287139893\n",
      "step 3800, training accuracy 86.00, loss 1.5528439283370972\n",
      "step 3900, training accuracy 86.00, loss 0.9996016025543213\n",
      "step 4000, training accuracy 92.00, loss 0.9127755761146545\n",
      "step 4100, training accuracy 94.00, loss 0.6324754357337952\n",
      "step 4200, training accuracy 94.00, loss 0.5738618969917297\n",
      "step 4300, training accuracy 95.00, loss 0.5744979381561279\n",
      "step 4400, training accuracy 89.00, loss 0.9823126196861267\n",
      "step 4500, training accuracy 89.00, loss 0.9179644584655762\n",
      "step 4600, training accuracy 96.00, loss 0.6103898882865906\n",
      "step 4700, training accuracy 91.00, loss 1.0262943506240845\n",
      "step 4800, training accuracy 96.00, loss 0.5276464223861694\n",
      "step 4900, training accuracy 95.00, loss 0.7716410756111145\n",
      "step 5000, training accuracy 95.00, loss 0.7047070860862732\n",
      "step 5100, training accuracy 93.00, loss 0.9160485863685608\n",
      "step 5200, training accuracy 92.00, loss 0.874192476272583\n",
      "step 5300, training accuracy 95.00, loss 0.7371666431427002\n",
      "step 5400, training accuracy 92.00, loss 0.6767432689666748\n",
      "step 5500, training accuracy 95.00, loss 0.806344211101532\n",
      "step 5600, training accuracy 86.00, loss 1.0745556354522705\n",
      "step 5700, training accuracy 92.00, loss 0.8899380564689636\n",
      "step 5800, training accuracy 95.00, loss 0.599799394607544\n",
      "step 5900, training accuracy 94.00, loss 0.7940889000892639\n",
      "step 6000, training accuracy 95.00, loss 0.7411176562309265\n",
      "step 6100, training accuracy 91.00, loss 0.687603771686554\n",
      "step 6200, training accuracy 93.00, loss 0.6730921864509583\n",
      "step 6300, training accuracy 93.00, loss 0.6154491901397705\n",
      "step 6400, training accuracy 95.00, loss 0.6088111996650696\n",
      "step 6500, training accuracy 96.00, loss 0.34055665135383606\n",
      "step 6600, training accuracy 88.00, loss 1.1040968894958496\n",
      "step 6700, training accuracy 90.00, loss 0.8105055093765259\n",
      "step 6800, training accuracy 89.00, loss 1.4114079475402832\n",
      "step 6900, training accuracy 94.00, loss 0.594266414642334\n",
      "step 7000, training accuracy 92.00, loss 0.9714646935462952\n",
      "step 7100, training accuracy 92.00, loss 0.687456488609314\n",
      "step 7200, training accuracy 96.00, loss 0.42392292618751526\n",
      "step 7300, training accuracy 94.00, loss 0.5580542087554932\n",
      "step 7400, training accuracy 91.00, loss 0.7658030986785889\n",
      "step 7500, training accuracy 92.00, loss 0.8270126581192017\n",
      "step 7600, training accuracy 92.00, loss 0.7086530923843384\n",
      "step 7700, training accuracy 91.00, loss 0.7956176996231079\n",
      "step 7800, training accuracy 93.00, loss 0.6764795184135437\n",
      "step 7900, training accuracy 96.00, loss 0.4795572757720947\n",
      "step 8000, training accuracy 91.00, loss 0.8420718312263489\n",
      "step 8100, training accuracy 91.00, loss 0.9585795402526855\n",
      "step 8200, training accuracy 91.00, loss 0.8864770531654358\n",
      "step 8300, training accuracy 98.00, loss 0.21128804981708527\n",
      "step 8400, training accuracy 96.00, loss 0.6573860049247742\n",
      "step 8500, training accuracy 95.00, loss 0.4548979103565216\n",
      "step 8600, training accuracy 95.00, loss 0.4576852023601532\n",
      "step 8700, training accuracy 96.00, loss 0.4701042175292969\n",
      "step 8800, training accuracy 95.00, loss 0.4422096312046051\n",
      "step 8900, training accuracy 94.00, loss 0.5606659650802612\n",
      "step 9000, training accuracy 95.00, loss 0.46011266112327576\n",
      "step 9100, training accuracy 94.00, loss 0.4992575943470001\n",
      "step 9200, training accuracy 94.00, loss 0.6545992493629456\n",
      "step 9300, training accuracy 90.00, loss 0.8674394488334656\n",
      "step 9400, training accuracy 95.00, loss 0.42189180850982666\n",
      "step 9500, training accuracy 94.00, loss 0.5610852241516113\n",
      "step 9600, training accuracy 95.00, loss 0.4899105429649353\n",
      "step 9700, training accuracy 93.00, loss 0.6080313920974731\n",
      "step 9800, training accuracy 100.00, loss 0.17893952131271362\n",
      "step 9900, training accuracy 94.00, loss 0.4454794228076935\n"
     ]
    }
   ],
   "source": [
    "# train\n",
    "with tf.Session() as s:\n",
    "    s.run(tf.initialize_all_variables())\n",
    "    \n",
    "    for i in range(10000):\n",
    "        batch_x, batch_y = mnist.train.next_batch(100)\n",
    "        _, l = s.run([train_step, loss], feed_dict={x: batch_x, y: batch_y})\n",
    "        \n",
    "        if i % 100 == 0:\n",
    "            train_accuracy = accuracy.eval(feed_dict={x: batch_x, y: batch_y})\n",
    "            print('step {0}, training accuracy {1:.2f}, loss {2}'.format(i, train_accuracy * 100, l))"
   ]
  }
 ],
 "metadata": {
  "kernelspec": {
   "display_name": "Python 3",
   "language": "python",
   "name": "python3"
  },
  "language_info": {
   "codemirror_mode": {
    "name": "ipython",
    "version": 3
   },
   "file_extension": ".py",
   "mimetype": "text/x-python",
   "name": "python",
   "nbconvert_exporter": "python",
   "pygments_lexer": "ipython3",
   "version": "3.4.3+"
  }
 },
 "nbformat": 4,
 "nbformat_minor": 0
}
