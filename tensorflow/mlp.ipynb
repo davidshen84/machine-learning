{
 "cells": [
  {
   "cell_type": "code",
   "execution_count": 7,
   "metadata": {
    "collapsed": false
   },
   "outputs": [],
   "source": [
    "%matplotlib inline\n",
    "\n",
    "import numpy as np\n",
    "from tensorflow.examples.tutorials.mnist import input_data\n",
    "import tensorflow as tf"
   ]
  },
  {
   "cell_type": "code",
   "execution_count": 8,
   "metadata": {
    "collapsed": false
   },
   "outputs": [
    {
     "name": "stdout",
     "output_type": "stream",
     "text": [
      "Extracting data/train-images-idx3-ubyte.gz\n",
      "Extracting data/train-labels-idx1-ubyte.gz\n",
      "Extracting data/t10k-images-idx3-ubyte.gz\n",
      "Extracting data/t10k-labels-idx1-ubyte.gz\n"
     ]
    }
   ],
   "source": [
    "mnist = input_data.read_data_sets('data', one_hot=True)"
   ]
  },
  {
   "cell_type": "code",
   "execution_count": 19,
   "metadata": {
    "collapsed": false
   },
   "outputs": [],
   "source": [
    "# model 1 hiden layer\n",
    "\n",
    "x = tf.placeholder(tf.float32, shape=[None, 784])\n",
    "y = tf.placeholder(tf.float32, shape=[None, 10])\n",
    "\n",
    "W_h1 = tf.Variable(tf.truncated_normal([784, 512]))\n",
    "#b1 = tf.Variable(tf.random_normal([512]))\n",
    "h1 = tf.nn.sigmoid(tf.matmul(x, W_h1))\n",
    "\n",
    "# W_h2 = tf.Variable(tf.random_normal([256, 10]))\n",
    "# h2 = tf.sigmoid(tf.matmul(h1, W_h2))\n",
    "\n",
    "W_out = tf.Variable(tf.truncated_normal([512, 10]))\n",
    "#b_out = tf.Variable(tf.random_normal([10]))\n",
    "y_ = tf.matmul(h1, W_out)\n",
    "\n",
    "cross_entropy = tf.nn.sigmoid_cross_entropy_with_logits(y_, y)\n",
    "# cross_entropy = tf.reduce_sum(- y * tf.log(y_) - (1 - y) * tf.log(1 - y_), 1)\n",
    "loss = tf.reduce_mean(cross_entropy)\n",
    "train_step = tf.train.GradientDescentOptimizer(0.5).minimize(loss)\n",
    "\n",
    "correct_prediction = tf.equal(tf.argmax(y, 1), tf.argmax(y_, 1))\n",
    "accuracy = tf.reduce_mean(tf.cast(correct_prediction, tf.float32))"
   ]
  },
  {
   "cell_type": "code",
   "execution_count": 20,
   "metadata": {
    "collapsed": false
   },
   "outputs": [
    {
     "name": "stdout",
     "output_type": "stream",
     "text": [
      "step 0, training accuracy 0.10999999940395355\n",
      "step 100, training accuracy 0.49000000953674316\n",
      "step 200, training accuracy 0.550000011920929\n",
      "step 300, training accuracy 0.6399999856948853\n",
      "step 400, training accuracy 0.7300000190734863\n",
      "step 500, training accuracy 0.7599999904632568\n",
      "step 600, training accuracy 0.7300000190734863\n",
      "step 700, training accuracy 0.8600000143051147\n",
      "step 800, training accuracy 0.8399999737739563\n",
      "step 900, training accuracy 0.7799999713897705\n",
      "step 1000, training accuracy 0.8500000238418579\n",
      "step 1100, training accuracy 0.8399999737739563\n",
      "step 1200, training accuracy 0.8399999737739563\n",
      "step 1300, training accuracy 0.8700000047683716\n",
      "step 1400, training accuracy 0.8799999952316284\n",
      "step 1500, training accuracy 0.8500000238418579\n",
      "step 1600, training accuracy 0.8100000023841858\n",
      "step 1700, training accuracy 0.8700000047683716\n",
      "step 1800, training accuracy 0.8399999737739563\n",
      "step 1900, training accuracy 0.9200000166893005\n",
      "step 2000, training accuracy 0.8799999952316284\n",
      "step 2100, training accuracy 0.8999999761581421\n",
      "step 2200, training accuracy 0.8899999856948853\n",
      "step 2300, training accuracy 0.8799999952316284\n",
      "step 2400, training accuracy 0.8299999833106995\n",
      "step 2500, training accuracy 0.9300000071525574\n",
      "step 2600, training accuracy 0.800000011920929\n",
      "step 2700, training accuracy 0.9200000166893005\n",
      "step 2800, training accuracy 0.8199999928474426\n",
      "step 2900, training accuracy 0.8700000047683716\n",
      "step 3000, training accuracy 0.8999999761581421\n",
      "step 3100, training accuracy 0.8799999952316284\n",
      "step 3200, training accuracy 0.9100000262260437\n",
      "step 3300, training accuracy 0.9300000071525574\n",
      "step 3400, training accuracy 0.8999999761581421\n",
      "step 3500, training accuracy 0.9200000166893005\n",
      "step 3600, training accuracy 0.9599999785423279\n",
      "step 3700, training accuracy 0.8500000238418579\n",
      "step 3800, training accuracy 0.8999999761581421\n",
      "step 3900, training accuracy 0.8899999856948853\n",
      "step 4000, training accuracy 0.9399999976158142\n",
      "step 4100, training accuracy 0.8899999856948853\n",
      "step 4200, training accuracy 0.8999999761581421\n",
      "step 4300, training accuracy 0.9300000071525574\n",
      "step 4400, training accuracy 0.8999999761581421\n",
      "step 4500, training accuracy 0.9700000286102295\n",
      "step 4600, training accuracy 0.9100000262260437\n",
      "step 4700, training accuracy 0.9100000262260437\n",
      "step 4800, training accuracy 0.9200000166893005\n",
      "step 4900, training accuracy 0.8999999761581421\n",
      "step 5000, training accuracy 0.9399999976158142\n",
      "step 5100, training accuracy 0.8799999952316284\n",
      "step 5200, training accuracy 0.9200000166893005\n",
      "step 5300, training accuracy 0.8799999952316284\n",
      "step 5400, training accuracy 0.9399999976158142\n",
      "step 5500, training accuracy 0.949999988079071\n",
      "step 5600, training accuracy 0.8299999833106995\n",
      "step 5700, training accuracy 0.9399999976158142\n",
      "step 5800, training accuracy 0.9200000166893005\n"
     ]
    },
    {
     "ename": "KeyboardInterrupt",
     "evalue": "",
     "output_type": "error",
     "traceback": [
      "\u001b[1;31m---------------------------------------------------------------------------\u001b[0m",
      "\u001b[1;31mKeyboardInterrupt\u001b[0m                         Traceback (most recent call last)",
      "\u001b[1;32m<ipython-input-20-e9418f0f61dc>\u001b[0m in \u001b[0;36m<module>\u001b[1;34m()\u001b[0m\n\u001b[0;32m      7\u001b[0m         \u001b[0mbatch_x\u001b[0m\u001b[1;33m,\u001b[0m \u001b[0mbatch_y\u001b[0m \u001b[1;33m=\u001b[0m \u001b[0mmnist\u001b[0m\u001b[1;33m.\u001b[0m\u001b[0mtrain\u001b[0m\u001b[1;33m.\u001b[0m\u001b[0mnext_batch\u001b[0m\u001b[1;33m(\u001b[0m\u001b[1;36m100\u001b[0m\u001b[1;33m)\u001b[0m\u001b[1;33m\u001b[0m\u001b[0m\n\u001b[0;32m      8\u001b[0m \u001b[1;31m#         print(y_.eval(session=s, feed_dict={x: batch_x, y: batch_y}))\u001b[0m\u001b[1;33m\u001b[0m\u001b[1;33m\u001b[0m\u001b[0m\n\u001b[1;32m----> 9\u001b[1;33m         \u001b[0ms\u001b[0m\u001b[1;33m.\u001b[0m\u001b[0mrun\u001b[0m\u001b[1;33m(\u001b[0m\u001b[0mtrain_step\u001b[0m\u001b[1;33m,\u001b[0m \u001b[0mfeed_dict\u001b[0m\u001b[1;33m=\u001b[0m\u001b[1;33m{\u001b[0m\u001b[0mx\u001b[0m\u001b[1;33m:\u001b[0m \u001b[0mbatch_x\u001b[0m\u001b[1;33m,\u001b[0m \u001b[0my\u001b[0m\u001b[1;33m:\u001b[0m \u001b[0mbatch_y\u001b[0m\u001b[1;33m}\u001b[0m\u001b[1;33m)\u001b[0m\u001b[1;33m\u001b[0m\u001b[0m\n\u001b[0m\u001b[0;32m     10\u001b[0m \u001b[1;33m\u001b[0m\u001b[0m\n\u001b[0;32m     11\u001b[0m         \u001b[1;32mif\u001b[0m \u001b[0mi\u001b[0m \u001b[1;33m%\u001b[0m \u001b[1;36m100\u001b[0m \u001b[1;33m==\u001b[0m \u001b[1;36m0\u001b[0m\u001b[1;33m:\u001b[0m\u001b[1;33m\u001b[0m\u001b[0m\n",
      "\u001b[1;32m/usr/local/lib/python3.4/dist-packages/tensorflow/python/client/session.py\u001b[0m in \u001b[0;36mrun\u001b[1;34m(self, fetches, feed_dict)\u001b[0m\n\u001b[0;32m    366\u001b[0m \u001b[1;33m\u001b[0m\u001b[0m\n\u001b[0;32m    367\u001b[0m     \u001b[1;31m# Run request and get response.\u001b[0m\u001b[1;33m\u001b[0m\u001b[1;33m\u001b[0m\u001b[0m\n\u001b[1;32m--> 368\u001b[1;33m     \u001b[0mresults\u001b[0m \u001b[1;33m=\u001b[0m \u001b[0mself\u001b[0m\u001b[1;33m.\u001b[0m\u001b[0m_do_run\u001b[0m\u001b[1;33m(\u001b[0m\u001b[0mtarget_list\u001b[0m\u001b[1;33m,\u001b[0m \u001b[0munique_fetch_targets\u001b[0m\u001b[1;33m,\u001b[0m \u001b[0mfeed_dict_string\u001b[0m\u001b[1;33m)\u001b[0m\u001b[1;33m\u001b[0m\u001b[0m\n\u001b[0m\u001b[0;32m    369\u001b[0m \u001b[1;33m\u001b[0m\u001b[0m\n\u001b[0;32m    370\u001b[0m     \u001b[1;31m# User may have fetched the same tensor multiple times, but we\u001b[0m\u001b[1;33m\u001b[0m\u001b[1;33m\u001b[0m\u001b[0m\n",
      "\u001b[1;32m/usr/local/lib/python3.4/dist-packages/tensorflow/python/client/session.py\u001b[0m in \u001b[0;36m_do_run\u001b[1;34m(self, target_list, fetch_list, feed_dict)\u001b[0m\n\u001b[0;32m    426\u001b[0m \u001b[1;33m\u001b[0m\u001b[0m\n\u001b[0;32m    427\u001b[0m       return tf_session.TF_Run(self._session, feed_dict, fetch_list,\n\u001b[1;32m--> 428\u001b[1;33m                                target_list)\n\u001b[0m\u001b[0;32m    429\u001b[0m \u001b[1;33m\u001b[0m\u001b[0m\n\u001b[0;32m    430\u001b[0m     \u001b[1;32mexcept\u001b[0m \u001b[0mtf_session\u001b[0m\u001b[1;33m.\u001b[0m\u001b[0mStatusNotOK\u001b[0m \u001b[1;32mas\u001b[0m \u001b[0me\u001b[0m\u001b[1;33m:\u001b[0m\u001b[1;33m\u001b[0m\u001b[0m\n",
      "\u001b[1;31mKeyboardInterrupt\u001b[0m: "
     ]
    }
   ],
   "source": [
    "# train\n",
    "with tf.Session() as s:\n",
    "#     s.as_default()\n",
    "    s.run(tf.initialize_all_variables())\n",
    "    \n",
    "    for i in range(10000):\n",
    "        batch_x, batch_y = mnist.train.next_batch(100)\n",
    "#         print(y_.eval(session=s, feed_dict={x: batch_x, y: batch_y}))\n",
    "        s.run(train_step, feed_dict={x: batch_x, y: batch_y})\n",
    "        \n",
    "        if i % 100 == 0:\n",
    "#             print(y_.eval(session=s, feed_dict={x: batch_x, y: batch_y})[1])\n",
    "#             print(tf.nn.sigmoid(y_).eval(session=s, feed_dict={x: batch_x, y: batch_y}))\n",
    "#             print(batch_y[0])\n",
    "#             print(y_.eval(feed_dict={x: batch_x[:1]}))\n",
    "            train_accuracy = accuracy.eval(feed_dict={x: batch_x, y: batch_y})\n",
    "            print('step {0}, training accuracy {1}'.format(i, train_accuracy))"
   ]
  },
  {
   "cell_type": "code",
   "execution_count": null,
   "metadata": {
    "collapsed": false
   },
   "outputs": [],
   "source": [
    "y_.get_shape()"
   ]
  }
 ],
 "metadata": {
  "kernelspec": {
   "display_name": "Python 3",
   "language": "python",
   "name": "python3"
  },
  "language_info": {
   "codemirror_mode": {
    "name": "ipython",
    "version": 3
   },
   "file_extension": ".py",
   "mimetype": "text/x-python",
   "name": "python",
   "nbconvert_exporter": "python",
   "pygments_lexer": "ipython3",
   "version": "3.4.3+"
  }
 },
 "nbformat": 4,
 "nbformat_minor": 0
}
